{
  "cells": [
    {
      "cell_type": "markdown",
      "metadata": {
        "application/vnd.databricks.v1+cell": {
          "cellMetadata": {},
          "inputWidgets": {},
          "nuid": "2daefafb-3f0a-433c-a53d-c77fb3a1a6d1",
          "showTitle": false,
          "title": ""
        },
        "id": "NdNlZ82-1akX"
      },
      "source": [
        "Import the required packages and set up the Spark session with spark-nlp."
      ]
    },
    {
      "cell_type": "code",
      "execution_count": 2,
      "metadata": {
        "application/vnd.databricks.v1+cell": {
          "cellMetadata": {},
          "inputWidgets": {},
          "nuid": "22500780-004c-4248-ae2a-d7338107aa50",
          "showTitle": false,
          "title": ""
        },
        "colab": {
          "base_uri": "https://localhost:8080/"
        },
        "id": "4lQMiiQj4Ceq",
        "outputId": "6a51911c-8506-46e3-8956-9b0daac8637e"
      },
      "outputs": [
        {
          "output_type": "stream",
          "name": "stdout",
          "text": [
            "--2022-12-15 19:58:40--  http://setup.johnsnowlabs.com/colab.sh\n",
            "Resolving setup.johnsnowlabs.com (setup.johnsnowlabs.com)... 51.158.130.125\n",
            "Connecting to setup.johnsnowlabs.com (setup.johnsnowlabs.com)|51.158.130.125|:80... connected.\n",
            "HTTP request sent, awaiting response... 302 Found\n",
            "Location: https://setup.johnsnowlabs.com/colab.sh [following]\n",
            "--2022-12-15 19:58:40--  https://setup.johnsnowlabs.com/colab.sh\n",
            "Connecting to setup.johnsnowlabs.com (setup.johnsnowlabs.com)|51.158.130.125|:443... connected.\n",
            "HTTP request sent, awaiting response... 302 Moved Temporarily\n",
            "Location: https://raw.githubusercontent.com/JohnSnowLabs/spark-nlp/master/scripts/colab_setup.sh [following]\n",
            "--2022-12-15 19:58:40--  https://raw.githubusercontent.com/JohnSnowLabs/spark-nlp/master/scripts/colab_setup.sh\n",
            "Resolving raw.githubusercontent.com (raw.githubusercontent.com)... 185.199.108.133, 185.199.109.133, 185.199.110.133, ...\n",
            "Connecting to raw.githubusercontent.com (raw.githubusercontent.com)|185.199.108.133|:443... connected.\n",
            "HTTP request sent, awaiting response... 200 OK\n",
            "Length: 1191 (1.2K) [text/plain]\n",
            "Saving to: ‘STDOUT’\n",
            "\n",
            "-                   100%[===================>]   1.16K  --.-KB/s    in 0s      \n",
            "\n",
            "2022-12-15 19:58:40 (39.9 MB/s) - written to stdout [1191/1191]\n",
            "\n",
            "Installing PySpark 3.2.1 and Spark NLP 4.2.5\n",
            "setup Colab for PySpark 3.2.1 and Spark NLP 4.2.5\n",
            "\u001b[K     |████████████████████████████████| 281.4 MB 33 kB/s \n",
            "\u001b[K     |████████████████████████████████| 453 kB 45.4 MB/s \n",
            "\u001b[K     |████████████████████████████████| 198 kB 59.2 MB/s \n",
            "\u001b[?25h  Building wheel for pyspark (setup.py) ... \u001b[?25l\u001b[?25hdone\n"
          ]
        }
      ],
      "source": [
        "!wget http://setup.johnsnowlabs.com/colab.sh -O - | bash"
      ]
    },
    {
      "cell_type": "code",
      "execution_count": 3,
      "metadata": {
        "application/vnd.databricks.v1+cell": {
          "cellMetadata": {},
          "inputWidgets": {},
          "nuid": "ae55b329-acdf-448c-a753-b8cf9fe2e363",
          "showTitle": false,
          "title": ""
        },
        "colab": {
          "base_uri": "https://localhost:8080/"
        },
        "id": "bupBLDVQ4Cer",
        "outputId": "5a11fa50-c649-431a-ad53-dfc61cade4ca"
      },
      "outputs": [
        {
          "output_type": "stream",
          "name": "stdout",
          "text": [
            "Spark NLP version: 4.2.5\n",
            "Apache Spark version: 3.2.1\n"
          ]
        }
      ],
      "source": [
        "import sparknlp\n",
        "from sparknlp.base import *\n",
        "from sparknlp.annotator import *\n",
        "spark = sparknlp.start()\n",
        "\n",
        "print(\"Spark NLP version: {}\".format(sparknlp.version()))\n",
        "print(\"Apache Spark version: {}\".format(spark.version))"
      ]
    },
    {
      "cell_type": "markdown",
      "metadata": {
        "application/vnd.databricks.v1+cell": {
          "cellMetadata": {},
          "inputWidgets": {},
          "nuid": "4a9d12eb-f3a9-405c-b139-3e24b5ab60e1",
          "showTitle": false,
          "title": ""
        },
        "id": "CYN69IIX1akj"
      },
      "source": [
        "Load the CSV file (n=1000 samples) containing our manual labels as the target vector"
      ]
    },
    {
      "cell_type": "code",
      "execution_count": 4,
      "metadata": {
        "id": "LyWE0oAH4bak",
        "colab": {
          "base_uri": "https://localhost:8080/",
          "height": 73
        },
        "outputId": "26c08887-dd9f-4676-eb0e-7916ef568564"
      },
      "outputs": [
        {
          "output_type": "display_data",
          "data": {
            "text/plain": [
              "<IPython.core.display.HTML object>"
            ],
            "text/html": [
              "\n",
              "     <input type=\"file\" id=\"files-0740eb57-f945-466b-9679-4f60d9763d82\" name=\"files[]\" multiple disabled\n",
              "        style=\"border:none\" />\n",
              "     <output id=\"result-0740eb57-f945-466b-9679-4f60d9763d82\">\n",
              "      Upload widget is only available when the cell has been executed in the\n",
              "      current browser session. Please rerun this cell to enable.\n",
              "      </output>\n",
              "      <script>// Copyright 2017 Google LLC\n",
              "//\n",
              "// Licensed under the Apache License, Version 2.0 (the \"License\");\n",
              "// you may not use this file except in compliance with the License.\n",
              "// You may obtain a copy of the License at\n",
              "//\n",
              "//      http://www.apache.org/licenses/LICENSE-2.0\n",
              "//\n",
              "// Unless required by applicable law or agreed to in writing, software\n",
              "// distributed under the License is distributed on an \"AS IS\" BASIS,\n",
              "// WITHOUT WARRANTIES OR CONDITIONS OF ANY KIND, either express or implied.\n",
              "// See the License for the specific language governing permissions and\n",
              "// limitations under the License.\n",
              "\n",
              "/**\n",
              " * @fileoverview Helpers for google.colab Python module.\n",
              " */\n",
              "(function(scope) {\n",
              "function span(text, styleAttributes = {}) {\n",
              "  const element = document.createElement('span');\n",
              "  element.textContent = text;\n",
              "  for (const key of Object.keys(styleAttributes)) {\n",
              "    element.style[key] = styleAttributes[key];\n",
              "  }\n",
              "  return element;\n",
              "}\n",
              "\n",
              "// Max number of bytes which will be uploaded at a time.\n",
              "const MAX_PAYLOAD_SIZE = 100 * 1024;\n",
              "\n",
              "function _uploadFiles(inputId, outputId) {\n",
              "  const steps = uploadFilesStep(inputId, outputId);\n",
              "  const outputElement = document.getElementById(outputId);\n",
              "  // Cache steps on the outputElement to make it available for the next call\n",
              "  // to uploadFilesContinue from Python.\n",
              "  outputElement.steps = steps;\n",
              "\n",
              "  return _uploadFilesContinue(outputId);\n",
              "}\n",
              "\n",
              "// This is roughly an async generator (not supported in the browser yet),\n",
              "// where there are multiple asynchronous steps and the Python side is going\n",
              "// to poll for completion of each step.\n",
              "// This uses a Promise to block the python side on completion of each step,\n",
              "// then passes the result of the previous step as the input to the next step.\n",
              "function _uploadFilesContinue(outputId) {\n",
              "  const outputElement = document.getElementById(outputId);\n",
              "  const steps = outputElement.steps;\n",
              "\n",
              "  const next = steps.next(outputElement.lastPromiseValue);\n",
              "  return Promise.resolve(next.value.promise).then((value) => {\n",
              "    // Cache the last promise value to make it available to the next\n",
              "    // step of the generator.\n",
              "    outputElement.lastPromiseValue = value;\n",
              "    return next.value.response;\n",
              "  });\n",
              "}\n",
              "\n",
              "/**\n",
              " * Generator function which is called between each async step of the upload\n",
              " * process.\n",
              " * @param {string} inputId Element ID of the input file picker element.\n",
              " * @param {string} outputId Element ID of the output display.\n",
              " * @return {!Iterable<!Object>} Iterable of next steps.\n",
              " */\n",
              "function* uploadFilesStep(inputId, outputId) {\n",
              "  const inputElement = document.getElementById(inputId);\n",
              "  inputElement.disabled = false;\n",
              "\n",
              "  const outputElement = document.getElementById(outputId);\n",
              "  outputElement.innerHTML = '';\n",
              "\n",
              "  const pickedPromise = new Promise((resolve) => {\n",
              "    inputElement.addEventListener('change', (e) => {\n",
              "      resolve(e.target.files);\n",
              "    });\n",
              "  });\n",
              "\n",
              "  const cancel = document.createElement('button');\n",
              "  inputElement.parentElement.appendChild(cancel);\n",
              "  cancel.textContent = 'Cancel upload';\n",
              "  const cancelPromise = new Promise((resolve) => {\n",
              "    cancel.onclick = () => {\n",
              "      resolve(null);\n",
              "    };\n",
              "  });\n",
              "\n",
              "  // Wait for the user to pick the files.\n",
              "  const files = yield {\n",
              "    promise: Promise.race([pickedPromise, cancelPromise]),\n",
              "    response: {\n",
              "      action: 'starting',\n",
              "    }\n",
              "  };\n",
              "\n",
              "  cancel.remove();\n",
              "\n",
              "  // Disable the input element since further picks are not allowed.\n",
              "  inputElement.disabled = true;\n",
              "\n",
              "  if (!files) {\n",
              "    return {\n",
              "      response: {\n",
              "        action: 'complete',\n",
              "      }\n",
              "    };\n",
              "  }\n",
              "\n",
              "  for (const file of files) {\n",
              "    const li = document.createElement('li');\n",
              "    li.append(span(file.name, {fontWeight: 'bold'}));\n",
              "    li.append(span(\n",
              "        `(${file.type || 'n/a'}) - ${file.size} bytes, ` +\n",
              "        `last modified: ${\n",
              "            file.lastModifiedDate ? file.lastModifiedDate.toLocaleDateString() :\n",
              "                                    'n/a'} - `));\n",
              "    const percent = span('0% done');\n",
              "    li.appendChild(percent);\n",
              "\n",
              "    outputElement.appendChild(li);\n",
              "\n",
              "    const fileDataPromise = new Promise((resolve) => {\n",
              "      const reader = new FileReader();\n",
              "      reader.onload = (e) => {\n",
              "        resolve(e.target.result);\n",
              "      };\n",
              "      reader.readAsArrayBuffer(file);\n",
              "    });\n",
              "    // Wait for the data to be ready.\n",
              "    let fileData = yield {\n",
              "      promise: fileDataPromise,\n",
              "      response: {\n",
              "        action: 'continue',\n",
              "      }\n",
              "    };\n",
              "\n",
              "    // Use a chunked sending to avoid message size limits. See b/62115660.\n",
              "    let position = 0;\n",
              "    do {\n",
              "      const length = Math.min(fileData.byteLength - position, MAX_PAYLOAD_SIZE);\n",
              "      const chunk = new Uint8Array(fileData, position, length);\n",
              "      position += length;\n",
              "\n",
              "      const base64 = btoa(String.fromCharCode.apply(null, chunk));\n",
              "      yield {\n",
              "        response: {\n",
              "          action: 'append',\n",
              "          file: file.name,\n",
              "          data: base64,\n",
              "        },\n",
              "      };\n",
              "\n",
              "      let percentDone = fileData.byteLength === 0 ?\n",
              "          100 :\n",
              "          Math.round((position / fileData.byteLength) * 100);\n",
              "      percent.textContent = `${percentDone}% done`;\n",
              "\n",
              "    } while (position < fileData.byteLength);\n",
              "  }\n",
              "\n",
              "  // All done.\n",
              "  yield {\n",
              "    response: {\n",
              "      action: 'complete',\n",
              "    }\n",
              "  };\n",
              "}\n",
              "\n",
              "scope.google = scope.google || {};\n",
              "scope.google.colab = scope.google.colab || {};\n",
              "scope.google.colab._files = {\n",
              "  _uploadFiles,\n",
              "  _uploadFilesContinue,\n",
              "};\n",
              "})(self);\n",
              "</script> "
            ]
          },
          "metadata": {}
        },
        {
          "output_type": "stream",
          "name": "stdout",
          "text": [
            "Saving GH-React.csv to GH-React.csv\n"
          ]
        }
      ],
      "source": [
        "from google.colab import files\n",
        "uploaded = files.upload()"
      ]
    },
    {
      "cell_type": "code",
      "execution_count": null,
      "metadata": {
        "application/vnd.databricks.v1+cell": {
          "cellMetadata": {},
          "inputWidgets": {},
          "nuid": "089acf00-87a3-496e-aee2-9c5d7579e39f",
          "showTitle": false,
          "title": ""
        },
        "id": "Tt-IvHx9Uy6U"
      },
      "outputs": [],
      "source": [
        "from pyspark.sql.functions import col\n",
        "df = (spark.read\n",
        "  .format(\"csv\")\n",
        "  .option(\"header\", \"true\")\n",
        "  .option(\"inferSchema\", \"true\")\n",
        "  .option(\"multiline\", \"true\")\n",
        "  .option(\"quote\", '\"')  \n",
        "  .option(\"escape\", \"\\\\\")\n",
        "  .option(\"escape\", '\"')\n",
        "  .load(\"GH-React.csv\")\n",
        ")\n",
        "df = df.select(col('number'), col('title'), col('author_association'), col('body'), col('Target'))"
      ]
    },
    {
      "cell_type": "code",
      "execution_count": 6,
      "metadata": {
        "application/vnd.databricks.v1+cell": {
          "cellMetadata": {},
          "inputWidgets": {},
          "nuid": "7ec887aa-c724-44ea-a4dd-3a4a74f58a9f",
          "showTitle": false,
          "title": ""
        },
        "id": "XjYOMWb8cDYG"
      },
      "outputs": [],
      "source": [
        "# a helper function to get the shape of a Spark DF\n",
        "def sparkdf_shape(df):\n",
        "  return df.count(), len(df.columns)"
      ]
    },
    {
      "cell_type": "code",
      "execution_count": 7,
      "metadata": {
        "application/vnd.databricks.v1+cell": {
          "cellMetadata": {},
          "inputWidgets": {},
          "nuid": "1728f56e-9a9b-4cc9-b3fe-02b474374b98",
          "showTitle": false,
          "title": ""
        },
        "id": "PJCJMcvf1akk",
        "colab": {
          "base_uri": "https://localhost:8080/"
        },
        "outputId": "f8349474-3418-4700-abe0-e2506e4ee6ea"
      },
      "outputs": [
        {
          "output_type": "stream",
          "name": "stdout",
          "text": [
            "Shape: (1000, 5)\n"
          ]
        }
      ],
      "source": [
        "print(\"Shape:\", sparkdf_shape(df))"
      ]
    },
    {
      "cell_type": "markdown",
      "metadata": {
        "application/vnd.databricks.v1+cell": {
          "cellMetadata": {},
          "inputWidgets": {},
          "nuid": "8a85fe5a-3c5c-4623-b3c9-979164892f20",
          "showTitle": false,
          "title": ""
        },
        "id": "Y65k16_81akl"
      },
      "source": [
        "# Machine Learning Pipeline"
      ]
    },
    {
      "cell_type": "markdown",
      "metadata": {
        "application/vnd.databricks.v1+cell": {
          "cellMetadata": {},
          "inputWidgets": {},
          "nuid": "8727052e-d708-4c1f-bf50-d99769473aa5",
          "showTitle": false,
          "title": ""
        },
        "id": "avs7tFGa1akp"
      },
      "source": [
        "## Stage 1\n",
        "Split the data into training (80%) and validation(20%) sets. We will stratify based on the label since our dataset is imbalanced."
      ]
    },
    {
      "cell_type": "code",
      "execution_count": 8,
      "metadata": {
        "application/vnd.databricks.v1+cell": {
          "cellMetadata": {},
          "inputWidgets": {},
          "nuid": "42df5b3c-46df-46ff-a419-fb2eaf128548",
          "showTitle": false,
          "title": ""
        },
        "id": "Z1vDn8i4XK3_"
      },
      "outputs": [],
      "source": [
        "# create a stratified sample for the training set using a 0.8 ratio\n",
        "train = df.stat.sampleBy(\"Target\", fractions={\"Bug\":0.8, \"Feature\":0.8, \"Support\": 0.8, \"Other\": 0.8}, seed=2)\n",
        "validate = df.exceptAll(train)"
      ]
    },
    {
      "cell_type": "code",
      "execution_count": 9,
      "metadata": {
        "application/vnd.databricks.v1+cell": {
          "cellMetadata": {},
          "inputWidgets": {},
          "nuid": "9316e598-122a-4a0f-888c-3d332cf10d9b",
          "showTitle": false,
          "title": ""
        },
        "id": "0E-spsWrYlqK",
        "colab": {
          "base_uri": "https://localhost:8080/"
        },
        "outputId": "a2f24b5e-78c2-4fca-a22e-0a6cb75b0a06"
      },
      "outputs": [
        {
          "output_type": "stream",
          "name": "stdout",
          "text": [
            "training set size: 799\n",
            "validation set size: 201\n"
          ]
        }
      ],
      "source": [
        "print(\"training set size:\",train.count())\n",
        "print(\"validation set size:\",validate.count())"
      ]
    },
    {
      "cell_type": "markdown",
      "metadata": {
        "application/vnd.databricks.v1+cell": {
          "cellMetadata": {},
          "inputWidgets": {},
          "nuid": "f800d050-633d-4efc-aeae-0b0df3c0f4fa",
          "showTitle": false,
          "title": ""
        },
        "id": "0E69SEfKIUAe"
      },
      "source": [
        "## Stage 2\n",
        "The strip_text() function is defined below. It takes in a String formatted as Markdown from GitHub and pre-processes it to return a new string ready for the next stages in our ML Pipeline."
      ]
    },
    {
      "cell_type": "code",
      "execution_count": 10,
      "metadata": {
        "application/vnd.databricks.v1+cell": {
          "cellMetadata": {},
          "inputWidgets": {},
          "nuid": "302fe141-9ca3-46e3-97d1-dc0c9f88972f",
          "showTitle": false,
          "title": ""
        },
        "id": "Vgh1cZUk1akm"
      },
      "outputs": [],
      "source": [
        "import re\n",
        "from pyspark.sql.functions import udf\n",
        "\n",
        "@udf(\"String\")\n",
        "def strip_text(text):\n",
        "  if text is not None:\n",
        "    stripped = text.lower()    \n",
        "\n",
        "    # remove all headings, bold text, and HTML comments from the Markdown text.\n",
        "    # These items have all been used by the React team in their issue templates on GitHub\n",
        "    headings_pattern = r'(<=\\s|^)#{1,6}(.*?)$'\n",
        "    bold_pattern = r'\\*\\*(.+?)\\*\\*(?!\\*)'\n",
        "    comments_pattern = r'<!--((.|\\n)*?)-->'\n",
        "    combined_pattern = r'|'.join((headings_pattern, bold_pattern, comments_pattern))\n",
        "\n",
        "    stripped = re.sub(combined_pattern, '', stripped)\n",
        "\n",
        "    # find all URLs in the string, and then remove the final directory from each to leave the general URL form\n",
        "    # there may be useful patterns based on what URLs issues are commonly linking to\n",
        "    url_pattern = re.compile(r'(https?://[^\\s]+)')\n",
        "    for url in re.findall(url_pattern, stripped):\n",
        "        new_url = url.rsplit(\"/\", 1)[0]\n",
        "        stripped = stripped.replace(url, new_url)\n",
        "\n",
        "    non_alpha_pattern = r'[^A-Za-z ]+'\n",
        "    stripped = re.sub(non_alpha_pattern, '', stripped)    \n",
        "    \n",
        "    return ' '.join(stripped.split())\n",
        "  else:\n",
        "    return \" \""
      ]
    },
    {
      "cell_type": "markdown",
      "metadata": {
        "application/vnd.databricks.v1+cell": {
          "cellMetadata": {},
          "inputWidgets": {},
          "nuid": "79188e9e-6ef9-4615-9a16-c0f1433037aa",
          "showTitle": false,
          "title": ""
        },
        "id": "NfJ9VGITVTs7"
      },
      "source": [
        "Apply the strip_text() function to both the title and body columns in the train and validation datasets"
      ]
    },
    {
      "cell_type": "code",
      "execution_count": 11,
      "metadata": {
        "application/vnd.databricks.v1+cell": {
          "cellMetadata": {},
          "inputWidgets": {},
          "nuid": "d439c427-5b23-4ba6-ac5d-73f9fa673ecf",
          "showTitle": false,
          "title": ""
        },
        "id": "KQtewuXEOu7B"
      },
      "outputs": [],
      "source": [
        "train_data = train.withColumn(\"body\", strip_text(col(\"body\"))).withColumn(\"title\", strip_text(col(\"title\")))\n",
        "validation_data = validate.withColumn(\"body\", strip_text(col(\"body\"))).withColumn(\"title\", strip_text(col(\"title\")))"
      ]
    },
    {
      "cell_type": "markdown",
      "metadata": {
        "application/vnd.databricks.v1+cell": {
          "cellMetadata": {},
          "inputWidgets": {},
          "nuid": "e8a42be0-517a-459a-b816-6dcecafe8217",
          "showTitle": false,
          "title": ""
        },
        "id": "uClT0AKJjGnk"
      },
      "source": [
        "Check that the strip_text() function worked as expected on one sample:"
      ]
    },
    {
      "cell_type": "code",
      "execution_count": 12,
      "metadata": {
        "application/vnd.databricks.v1+cell": {
          "cellMetadata": {},
          "inputWidgets": {},
          "nuid": "0a1154a5-9f40-46c0-a74d-1a1c5b64658b",
          "showTitle": false,
          "title": ""
        },
        "id": "1mLlJr39PFbe",
        "colab": {
          "base_uri": "https://localhost:8080/"
        },
        "outputId": "f5389d17-3cf2-42c6-8f70-6155f7eb3009"
      },
      "outputs": [
        {
          "output_type": "execute_result",
          "data": {
            "text/plain": [
              "[Row(number=11947, title='reactnativecustomtabs not return response', author_association='NONE', body='i have created button to open custontabs to use external url into reactnative app external url have some forms that are submitted and return array as a response into another page ie success page i want to get response from success page into app and customtabs would be close automatically code for custom taburl httpswwwexamplecomcustomtabsopenurlurl toolbarcolor dbenableurlbarhiding trueshowpagetitle trueenabledefaultshare trueanimations animationsslidethenlaunched boolean consoleloglaunched custom tabs launchedcatcherr consoleerrorerr', Target='Feature')]"
            ]
          },
          "metadata": {},
          "execution_count": 12
        }
      ],
      "source": [
        "train_data.take(1)"
      ]
    },
    {
      "cell_type": "markdown",
      "metadata": {
        "application/vnd.databricks.v1+cell": {
          "cellMetadata": {},
          "inputWidgets": {},
          "nuid": "b533c8a1-e784-4370-9aa3-de93214d5eab",
          "showTitle": false,
          "title": ""
        },
        "id": "C_fYmBil1akq"
      },
      "source": [
        "## Stage 3 - Graeme\n",
        "Create a TF-IDF features vector using a PySpark Pipeline. We will use TF-IDF applied to stemmed ngrams from both the issue title and body columns. We wi\n",
        "\n",
        "We will apply this step separately to both the body and title to produce a different set of features for each. The tokens in the title may hold different importance than the same token in the body.\n",
        "\n",
        "We will additionally add in the feature 'author_association' from the GitHub issue, as there may be a correlation between Members/Collaborators/Contributors submitting more valid bugs/feature requests than \"None\" users. This will be applied using one-hot-encoder."
      ]
    },
    {
      "cell_type": "code",
      "execution_count": 13,
      "metadata": {
        "id": "5rEL3mgmn-FQ"
      },
      "outputs": [],
      "source": [
        "from pyspark.ml.feature import CountVectorizer, IDF\n",
        "from pyspark.ml.feature import StringIndexer\n",
        "from pyspark.ml.feature import OneHotEncoder\n",
        "from pyspark.ml.feature import VectorAssembler\n",
        "from pyspark.ml import Pipeline"
      ]
    },
    {
      "cell_type": "code",
      "execution_count": 14,
      "metadata": {
        "application/vnd.databricks.v1+cell": {
          "cellMetadata": {},
          "inputWidgets": {},
          "nuid": "e06e8323-ad77-4576-9003-a6ddfcdaea26",
          "showTitle": false,
          "title": ""
        },
        "id": "zl4o2oAxCIOQ",
        "colab": {
          "base_uri": "https://localhost:8080/"
        },
        "outputId": "6f289703-d3fd-448e-ab43-5c7161b027f3"
      },
      "outputs": [
        {
          "output_type": "stream",
          "name": "stdout",
          "text": [
            "lemma_antbnc download started this may take some time.\n",
            "Approximate size to download 907.6 KB\n",
            "[OK!]\n",
            "lemma_antbnc download started this may take some time.\n",
            "Approximate size to download 907.6 KB\n",
            "[OK!]\n"
          ]
        }
      ],
      "source": [
        "# NLP Pipeline\n",
        "documentAssemblerTitle = DocumentAssembler().setInputCol('title').setOutputCol('titles')\n",
        "documentAssemblerBody = DocumentAssembler().setInputCol('body').setOutputCol('bodies')\n",
        "tokenizer_titles = Tokenizer().setInputCols(['titles']).setOutputCol('tokenized_titles')\n",
        "tokenizer_bodies = Tokenizer().setInputCols(['bodies']).setOutputCol('tokenized_bodies')\n",
        "lemmatizer_titles = LemmatizerModel.pretrained().setInputCols(['tokenized_titles']).setOutputCol('trunc_titles')\n",
        "lemmatizer_bodies = LemmatizerModel.pretrained().setInputCols(['tokenized_bodies']).setOutputCol('trunc_bodies')\n",
        "ngrammer_titles = NGramGenerator().setInputCols(['trunc_titles']).setOutputCol('ngrams_titles').setN(2).setEnableCumulative(True)\n",
        "ngrammer_bodies = NGramGenerator().setInputCols(['trunc_bodies']).setOutputCol('ngrams_bodies').setN(2).setEnableCumulative(True)\n",
        "finisher = Finisher().setInputCols(['ngrams_titles','ngrams_bodies'])\n",
        "\n",
        "tf_titles = CountVectorizer(inputCol='finished_ngrams_titles',outputCol='tf_features_titles')\n",
        "tf_bodies = CountVectorizer(inputCol='finished_ngrams_bodies',outputCol='tf_features_bodies')\n",
        "idf_titles = IDF(inputCol='tf_features_titles', outputCol='idf_titles',minDocFreq=5)\n",
        "idf_bodies = IDF(inputCol='tf_features_bodies', outputCol='idf_bodies',minDocFreq=5)\n",
        "author_stringIdx = StringIndexer(inputCol=\"author_association\", outputCol=\"author_index\")\n",
        "ohe = OneHotEncoder(inputCol=\"author_index\", outputCol=\"aa\")\n",
        "assembler = VectorAssembler(inputCols=['aa', 'idf_titles', 'idf_bodies'],outputCol='features')\n",
        "label_stringIdx = StringIndexer(inputCol = \"Target\", outputCol = \"label\")\n",
        "\n",
        "nlp_pipe = Pipeline().setStages([documentAssemblerTitle,\n",
        "                    documentAssemblerBody,\n",
        "                    tokenizer_titles,\n",
        "                    tokenizer_bodies,\n",
        "                    lemmatizer_titles,\n",
        "                    lemmatizer_bodies,\n",
        "                    ngrammer_titles,\n",
        "                    ngrammer_bodies,\n",
        "                    finisher,\n",
        "                    tf_titles,\n",
        "                    tf_bodies,\n",
        "                    idf_titles,\n",
        "                    idf_bodies,\n",
        "                    author_stringIdx,\n",
        "                    ohe,\n",
        "                    assembler,\n",
        "                    label_stringIdx])"
      ]
    },
    {
      "cell_type": "markdown",
      "metadata": {
        "id": "tG5JaQakBm78"
      },
      "source": [
        "**NOTE:** Spark NLP and Spark ML are not compatible in terms of the pySpark Pipeline and CrossValidate (took a very long time to learn this). We need to make the NLP pre-processing and intermediate step in the process.\n",
        "\n",
        "Source: https://github.com/JohnSnowLabs/spark-nlp/issues/1158\n",
        "\n",
        "We will fit/transform the NLP part of the pipeline and feed it into the Classifiers later on. This also has the added benefit of not having to re-run the NLP pre-processing on each iteration of grid search, but load it from cache instead."
      ]
    },
    {
      "cell_type": "code",
      "execution_count": 15,
      "metadata": {
        "id": "UGkPUjfD4hsw",
        "colab": {
          "base_uri": "https://localhost:8080/"
        },
        "outputId": "3688b380-a925-486c-fbb9-6bbd05653429"
      },
      "outputs": [
        {
          "output_type": "execute_result",
          "data": {
            "text/plain": [
              "DataFrame[number: int, features: vector, label: double]"
            ]
          },
          "metadata": {},
          "execution_count": 15
        }
      ],
      "source": [
        "nlp_fit = nlp_pipe.fit(train_data)\n",
        "nlp_train = nlp_fit.transform(train_data)\n",
        "# capturing full dataframe here to use for figs later\n",
        "nlp_train_full = nlp_train\n",
        "nlp_train = nlp_train.select(col('features'), col('label'))\n",
        "\n",
        "nlp_validate = nlp_fit.transform(validation_data)\n",
        "nlp_validate = nlp_validate.select(col('number'), col('features'), col('label'))\n",
        "\n",
        "# Save to file for future reference, and load to cache\n",
        "nlp_train.write.mode('overwrite').parquet(\"./nlp/nlp_train.parquet\")\n",
        "nlp_train = spark.read.parquet(\"./nlp/nlp_train.parquet\")\n",
        "nlp_train.cache()\n",
        "\n",
        "nlp_validate.write.mode('overwrite').parquet(\"./nlp/nlp_validate.parquet\")\n",
        "nlp_validate = spark.read.parquet(\"./nlp/nlp_validate.parquet\")\n",
        "nlp_validate.cache()"
      ]
    },
    {
      "cell_type": "markdown",
      "source": [
        "## Plotting / helper functions"
      ],
      "metadata": {
        "id": "ptr1p2Obaz68"
      }
    },
    {
      "cell_type": "code",
      "source": [
        "# bar/count plot helper function\n",
        "\n",
        "import seaborn as sns\n",
        "import matplotlib.pyplot as plt\n",
        "\n",
        "def term_freq_plot(df, title):\n",
        "  dfp = df.toPandas()\n",
        "  sns.set_theme(style=\"ticks\")\n",
        "  plt.figure(figsize=(15,8))\n",
        "  freq_plot = sns.barplot(data=dfp, x=dfp.columns[0], y=dfp.columns[1], hue=None, color='blue')\n",
        "  freq_plot.set(title=title)\n",
        "  for label in freq_plot.get_xticklabels():\n",
        "    label.set_rotation(45)"
      ],
      "metadata": {
        "id": "phvN0oyOoPgj"
      },
      "execution_count": 19,
      "outputs": []
    },
    {
      "cell_type": "code",
      "source": [
        "# confusion matrix plotting\n",
        "\n",
        "import matplotlib.pyplot as plt\n",
        "import seaborn as sns\n",
        "from pyspark.mllib.evaluation import MulticlassMetrics\n",
        "import warnings\n",
        "\n",
        "def confusion_matrix_plotter(df_model_output, model_name, target_label='label', predict_label='prediction', reverse_xaxis='n', nparray='n'):\n",
        "  \n",
        "  warnings.filterwarnings(\"ignore\")\n",
        "  \n",
        "  if(nparray == 'n'):\n",
        "    predications_and_labels = df_model_output.select(col(predict_label),col(target_label))\n",
        "    # predications_and_labels.show(5)\n",
        "    metrics = MulticlassMetrics(predications_and_labels.rdd)\n",
        "    confusion_matrix = metrics.confusionMatrix().toArray()\n",
        "  else:\n",
        "    confusion_matrix=df_model_output\n",
        "  print(confusion_matrix)\n",
        "  plt.figure(figsize=(10,6))\n",
        "  fx=sns.heatmap(confusion_matrix, annot=True, fmt=\".1f\",cmap=\"GnBu\", xticklabels=True, yticklabels=True, vmin=-1)\n",
        "  fx.set_title('Confusion Matrix Results %(model_name)s \\n' %{\"model_name\": model_name});\n",
        "  fx.set_xlabel('\\n Predicted Values\\n')\n",
        "  fx.set_ylabel('Actual Values\\n');\n",
        "  fx.xaxis.set_ticklabels([\"Other\", \"Support\", \"Bug\", \"Feature\"])\n",
        "  fx.yaxis.set_ticklabels([\"Other\", \"Support\", \"Bug\", \"Feature\"])\n",
        "  if(reverse_xaxis == 'y'):\n",
        "    fx.invert_xaxis()\n",
        "  plt.show()"
      ],
      "metadata": {
        "id": "S05pBj8-a9d4"
      },
      "execution_count": 20,
      "outputs": []
    },
    {
      "cell_type": "code",
      "source": [
        "# logistic regression heatmap plotter\n",
        "\n",
        "import re\n",
        "import pandas as pd\n",
        "\n",
        "def logReg_cv_scores_heatmap(param_grid, model):\n",
        "  plt.figure(figsize=(10,6))\n",
        "\n",
        "  i = 0\n",
        "  reg_Param = []\n",
        "  elastic_NetParam = []\n",
        "\n",
        "  while i < (len(param_grid)):\n",
        "    result = re.search(r\"(regParam).*(: (\\d+.?\\d+),).+(elasticNetParam).+(:.*(\\d+.?\\d+))\", str(param_grid[i]))\n",
        "    reg_Param.append(result.groups()[2])\n",
        "    elastic_NetParam.append(result.groups()[5])\n",
        "    i += 1\n",
        "\n",
        "  # print(reg_Param)\n",
        "  # print(elastic_NetParam)\n",
        "  # print(model.avgMetrics)\n",
        "\n",
        "  data_lists = list(zip(reg_Param, elastic_NetParam, model.avgMetrics))\n",
        "  \n",
        "  df_labels = [\"regParam\", \"elasticNetParam\", \"Score\"]\n",
        "\n",
        "  data_df = spark.createDataFrame(data=data_lists, schema=df_labels)\n",
        "  # data_df.show()\n",
        "\n",
        "  heatmap_df = data_df.toPandas().pivot(\"regParam\", \"elasticNetParam\", \"Score\")\n",
        "  # heatmap_df.head(10)\n",
        "  \n",
        "  plot = sns.heatmap(heatmap_df, annot=True, fmt=\".2f\", linewidths=0.25, cmap = sns.cm.rocket_r)\n",
        "  plot.invert_yaxis()\n",
        "\n",
        "  return heatmap_df"
      ],
      "metadata": {
        "id": "u8cpGwk-bPfu"
      },
      "execution_count": 21,
      "outputs": []
    },
    {
      "cell_type": "code",
      "source": [
        "# Naive Bayes heatmap plotter (similar to logistic regression func above\n",
        "# - at this time, I just adapted the previous instead of making a more general version)\n",
        "\n",
        "import re\n",
        "import pandas as pd\n",
        "\n",
        "def nb_cv_scores_heatmap(param_grid, model):\n",
        "  plt.figure(figsize=(10,6))\n",
        "  \n",
        "  i = 0\n",
        "  param1 = []\n",
        "  param2 = []\n",
        "\n",
        "  while i < (len(param_grid)):\n",
        "    result = re.search(r\"name=.+(smoothing).*:.+(\\d+.?\\d+),.+(modelType).+\\):.*'(.+)'\", str(param_grid[i]))\n",
        "    # print(result.groups())\n",
        "    param1.append(result.groups()[1])\n",
        "    param2.append(result.groups()[3])\n",
        "    i += 1\n",
        "\n",
        "  # print(param1)\n",
        "  # print(param1)\n",
        "  # print(model.avgMetrics)\n",
        "\n",
        "  data_lists = list(zip(param1, param2, model.avgMetrics))\n",
        "  \n",
        "  df_labels = [\"smoothing\", \"modelType\", \"Score\"]\n",
        "\n",
        "  data_df = spark.createDataFrame(data=data_lists, schema=df_labels)\n",
        "  data_df.show()\n",
        "\n",
        "  heatmap_df = data_df.toPandas().pivot(\"smoothing\", \"modelType\", \"Score\")\n",
        "  heatmap_df.head(10)\n",
        "  \n",
        "  plot = sns.heatmap(heatmap_df, annot=True, linewidths=0.25, cmap = sns.cm.rocket_r)\n",
        "  plot.invert_yaxis()\n",
        "\n",
        "  return heatmap_df"
      ],
      "metadata": {
        "id": "LfU5llo1bPZp"
      },
      "execution_count": 22,
      "outputs": []
    },
    {
      "cell_type": "markdown",
      "source": [
        "## Title & Body (finished ngram) Figures"
      ],
      "metadata": {
        "id": "yT8YlhieoVX0"
      }
    },
    {
      "cell_type": "code",
      "source": [
        "from pyspark.sql.types import StringType\n",
        "\n",
        "df_finished_ngrams_titles = nlp_train_full.select('finished_ngrams_titles').rdd.flatMap(lambda x: x[0]).toDF(schema=StringType()).toDF('terms')\n",
        "# print(df_finished_ngrams_titles.count())\n",
        "# df_finished_ngrams_titles.show(5)\n",
        "\n",
        "df_finished_ngrams_bodies = nlp_train_full.select('finished_ngrams_bodies').rdd.flatMap(lambda x: x[0]).toDF(schema=StringType()).toDF('terms')\n",
        "# print(df_finished_ngrams_bodies.count())\n",
        "# df_finished_ngrams_bodies.show(5)\n",
        "\n",
        "term_freq_titles = df_finished_ngrams_titles.rdd.countByValue()\n",
        "term_freq_titles_df = pd.DataFrame({'term': list(term_freq_titles.keys()),'frequency': list(term_freq_titles.values())})\n",
        "title_freqs = spark.createDataFrame(term_freq_titles_df).orderBy('frequency', ascending=False)\n",
        "title_freqs.show(3)\n",
        "print(sparkdf_shape(title_freqs))\n",
        "\n",
        "term_freq_body = df_finished_ngrams_bodies.rdd.countByValue()\n",
        "term_freq_body_df = pd.DataFrame({'term': list(term_freq_body.keys()),'frequency': list(term_freq_body.values())})\n",
        "body_freqs = spark.createDataFrame(term_freq_body_df).orderBy('frequency', ascending=False)\n",
        "body_freqs.show(3)\n",
        "print(sparkdf_shape(body_freqs))"
      ],
      "metadata": {
        "id": "1mZWrdn0optz",
        "colab": {
          "base_uri": "https://localhost:8080/"
        },
        "outputId": "24045067-0b27-4770-d79d-e1959ca50ab8"
      },
      "execution_count": 23,
      "outputs": [
        {
          "output_type": "stream",
          "name": "stdout",
          "text": [
            "+-----+---------+\n",
            "| term|frequency|\n",
            "+-----+---------+\n",
            "|{bug}|      221|\n",
            "| {in}|      197|\n",
            "| {be}|      166|\n",
            "+-----+---------+\n",
            "only showing top 3 rows\n",
            "\n",
            "(5899, 2)\n",
            "+-----+---------+\n",
            "| term|frequency|\n",
            "+-----+---------+\n",
            "|{the}|     4169|\n",
            "| {be}|     2875|\n",
            "| {to}|     2435|\n",
            "+-----+---------+\n",
            "only showing top 3 rows\n",
            "\n",
            "(59550, 2)\n"
          ]
        }
      ]
    },
    {
      "cell_type": "code",
      "source": [
        "import pyspark.sql.functions as F\n",
        "df_title_freqs = title_freqs.select(F.col(\"term.terms\").alias(\"term\"), F.col(\"frequency\").alias(\"count\")).limit(20)\n",
        "df_title_freqs.show()\n",
        "\n",
        "df_body_freqs = body_freqs.select(F.col(\"term.terms\").alias(\"term\"), F.col(\"frequency\").alias(\"count\")).limit(20)\n",
        "df_body_freqs.show()"
      ],
      "metadata": {
        "id": "_tx0dvTcoqK_",
        "colab": {
          "base_uri": "https://localhost:8080/"
        },
        "outputId": "8f69f252-de61-4595-d452-484d0addb29d"
      },
      "execution_count": 24,
      "outputs": [
        {
          "output_type": "stream",
          "name": "stdout",
          "text": [
            "+---------+-----+\n",
            "|     term|count|\n",
            "+---------+-----+\n",
            "|      bug|  221|\n",
            "|       in|  197|\n",
            "|       be|  166|\n",
            "|    react|  158|\n",
            "|       to|  155|\n",
            "|      not|  144|\n",
            "|      the|  133|\n",
            "|        a|  121|\n",
            "|component|  108|\n",
            "|    error|  107|\n",
            "|     with|  100|\n",
            "|       of|   96|\n",
            "| devtools|   79|\n",
            "|      for|   78|\n",
            "|     when|   77|\n",
            "|      and|   72|\n",
            "|     hook|   66|\n",
            "|      use|   62|\n",
            "|       on|   58|\n",
            "|    state|   56|\n",
            "+---------+-----+\n",
            "\n",
            "+---------+-----+\n",
            "|     term|count|\n",
            "+---------+-----+\n",
            "|      the| 4169|\n",
            "|       be| 2875|\n",
            "|       to| 2435|\n",
            "|        a| 1851|\n",
            "|       in| 1707|\n",
            "|        i| 1663|\n",
            "|      and| 1221|\n",
            "|       at| 1190|\n",
            "|       it| 1138|\n",
            "|     this| 1008|\n",
            "|       of|  988|\n",
            "|    react|  925|\n",
            "|     that|  821|\n",
            "|component|  768|\n",
            "|      not|  713|\n",
            "|      use|  642|\n",
            "|      for|  600|\n",
            "|     from|  599|\n",
            "|       on|  576|\n",
            "|     with|  558|\n",
            "+---------+-----+\n",
            "\n"
          ]
        }
      ]
    },
    {
      "cell_type": "code",
      "source": [
        "term_freq_plot(df_title_freqs, \"Top 20 Title Features (finished_ngrams, pre-IDF)\")"
      ],
      "metadata": {
        "id": "4UgqB4oeoqUs",
        "colab": {
          "base_uri": "https://localhost:8080/",
          "height": 560
        },
        "outputId": "aaae08a9-079c-44b1-88f9-42775449a4e6"
      },
      "execution_count": 25,
      "outputs": [
        {
          "output_type": "display_data",
          "data": {
            "text/plain": [
              "<Figure size 1080x576 with 1 Axes>"
            ],
            "image/png": "[encoded data removed]"
          },
          "metadata": {}
        }
      ]
    },
    {
      "cell_type": "code",
      "source": [
        "term_freq_plot(df_body_freqs, \"Top 20 Body Features (finished_ngrams, pre-IDF)\")"
      ],
      "metadata": {
        "id": "wdjYaAPgoqca",
        "colab": {
          "base_uri": "https://localhost:8080/",
          "height": 560
        },
        "outputId": "d8513c51-ce87-4f00-8b15-cd794f3ade1d"
      },
      "execution_count": 26,
      "outputs": [
        {
          "output_type": "display_data",
          "data": {
            "text/plain": [
              "<Figure size 1080x576 with 1 Axes>"
            ],
            "image/png": "[encoded data removed]"
          },
          "metadata": {}
        }
      ]
    },
    {
      "cell_type": "markdown",
      "metadata": {
        "application/vnd.databricks.v1+cell": {
          "cellMetadata": {},
          "inputWidgets": {},
          "nuid": "9c5f731a-4aae-46ea-a861-fa699385098f",
          "showTitle": false,
          "title": ""
        },
        "id": "A0zh37pl4Cez"
      },
      "source": [
        "## Stage 4\n",
        "\n",
        "Apply and fit the model pipeline.\n",
        "\n",
        "First, fit and transform the pipeline with our training dataset using Logistic Regression classifier."
      ]
    },
    {
      "cell_type": "code",
      "execution_count": 27,
      "metadata": {
        "application/vnd.databricks.v1+cell": {
          "cellMetadata": {},
          "inputWidgets": {},
          "nuid": "4ff7eb72-6b28-44eb-8088-3f82eacbb0db",
          "showTitle": false,
          "title": ""
        },
        "id": "r5NHYowrcRro"
      },
      "outputs": [],
      "source": [
        "from pyspark.ml.classification import LogisticRegression\n",
        "lr = LogisticRegression()\n",
        "lr_model = lr.fit(nlp_train)"
      ]
    },
    {
      "cell_type": "code",
      "execution_count": 28,
      "metadata": {
        "application/vnd.databricks.v1+cell": {
          "cellMetadata": {},
          "inputWidgets": {},
          "nuid": "555f0f01-d4e3-434b-9afc-0356d75f5d6e",
          "showTitle": false,
          "title": ""
        },
        "id": "xBqdbQm5jicf"
      },
      "outputs": [],
      "source": [
        "predictions_train = lr_model.transform(nlp_train)"
      ]
    },
    {
      "cell_type": "markdown",
      "metadata": {
        "id": "ASNCvzrvqvv4"
      },
      "source": [
        "Evaluate the predictions. We have a perfect training score, which could be expected given that we have many more features than samples on a linear model."
      ]
    },
    {
      "cell_type": "code",
      "execution_count": 29,
      "metadata": {
        "application/vnd.databricks.v1+cell": {
          "cellMetadata": {},
          "inputWidgets": {},
          "nuid": "7e21930b-a0fe-44db-bc34-9ce90c6be2fb",
          "showTitle": false,
          "title": ""
        },
        "id": "eh8llp2Gjq_n",
        "colab": {
          "base_uri": "https://localhost:8080/"
        },
        "outputId": "ac6938fd-1073-432d-ee04-da7aa7c07e9b"
      },
      "outputs": [
        {
          "output_type": "stream",
          "name": "stdout",
          "text": [
            "Train Accuracy Score: 1.0000\n",
            "Train f1: 1.0000\n"
          ]
        }
      ],
      "source": [
        "from pyspark.ml.evaluation import MulticlassClassificationEvaluator \n",
        "\n",
        "evaluator = MulticlassClassificationEvaluator()\n",
        "\n",
        "accuracy = predictions_train.filter(predictions_train.label == predictions_train.prediction).count() / float(predictions_train.count())\n",
        "score = evaluator.evaluate(predictions_train)\n",
        "print(\"Train Accuracy Score: {0:.4f}\".format(accuracy))\n",
        "print(\"Train {0}: {1:.4f}\".format(evaluator.getMetricName(), score))"
      ]
    },
    {
      "cell_type": "code",
      "source": [
        "# call helper to plot confusion matrix\n",
        "confusion_matrix_plotter(predictions_train, \"LR Model\")"
      ],
      "metadata": {
        "id": "Z44bzGO0cSfh",
        "colab": {
          "base_uri": "https://localhost:8080/",
          "height": 524
        },
        "outputId": "ea52cd52-a3d0-4be4-d3e9-e6d8ad383cd0"
      },
      "execution_count": 30,
      "outputs": [
        {
          "output_type": "stream",
          "name": "stdout",
          "text": [
            "[[349.   0.   0.   0.]\n",
            " [  0. 317.   0.   0.]\n",
            " [  0.   0.  97.   0.]\n",
            " [  0.   0.   0.  36.]]\n"
          ]
        },
        {
          "output_type": "display_data",
          "data": {
            "text/plain": [
              "<Figure size 720x432 with 2 Axes>"
            ],
            "image/png": "[encoded data removed]"
          },
          "metadata": {}
        }
      ]
    },
    {
      "cell_type": "markdown",
      "metadata": {
        "id": "WRUeJvRzt6av"
      },
      "source": [
        "Save the trained model for faster loading in the future:"
      ]
    },
    {
      "cell_type": "code",
      "execution_count": 31,
      "metadata": {
        "id": "iJI4iMd1t9X9"
      },
      "outputs": [],
      "source": [
        "from pyspark.ml.classification import LogisticRegressionModel\n",
        "lr_model.write().overwrite().save(\"./trainedmodels/lr\")\n",
        "lr_model = LogisticRegressionModel.load(\"./trainedmodels/lr\")"
      ]
    },
    {
      "cell_type": "markdown",
      "metadata": {
        "id": "4iWFudjHrMcO"
      },
      "source": [
        "Now, apply the model to our validation set to see how it performs on new data:"
      ]
    },
    {
      "cell_type": "code",
      "execution_count": 32,
      "metadata": {
        "id": "vIDHBJVyrhjt"
      },
      "outputs": [],
      "source": [
        "predictions_validate = lr_model.transform(nlp_validate)"
      ]
    },
    {
      "cell_type": "code",
      "execution_count": 33,
      "metadata": {
        "id": "tdmCADmfn-FT",
        "colab": {
          "base_uri": "https://localhost:8080/"
        },
        "outputId": "11cbb803-1ed8-4e68-e6ec-583d547bd287"
      },
      "outputs": [
        {
          "output_type": "stream",
          "name": "stdout",
          "text": [
            "Validation Accuracy Score: 0.4826\n",
            "Validation f1: 0.4855\n"
          ]
        }
      ],
      "source": [
        "accuracy = predictions_validate.filter(predictions_validate.label == predictions_validate.prediction).count() / float(predictions_validate.count())\n",
        "score = evaluator.evaluate(predictions_validate)\n",
        "print(\"Validation Accuracy Score: {0:.4f}\".format(accuracy))\n",
        "print(\"Validation {0}: {1:.4f}\".format(evaluator.getMetricName(), score))"
      ]
    },
    {
      "cell_type": "code",
      "source": [
        "# call helper to plot confusion matrix\n",
        "confusion_matrix_plotter(predictions_validate, \"LR Model\")"
      ],
      "metadata": {
        "id": "ojwfFymEcK6Z",
        "colab": {
          "base_uri": "https://localhost:8080/",
          "height": 524
        },
        "outputId": "6737bacb-3554-47b0-bef2-e54bb84d3c84"
      },
      "execution_count": 34,
      "outputs": [
        {
          "output_type": "stream",
          "name": "stdout",
          "text": [
            "[[48. 18. 11.  6.]\n",
            " [33. 34.  8.  8.]\n",
            " [ 9.  7. 10.  1.]\n",
            " [ 1.  1.  1.  5.]]\n"
          ]
        },
        {
          "output_type": "display_data",
          "data": {
            "text/plain": [
              "<Figure size 720x432 with 2 Axes>"
            ],
            "image/png": "[encoded data removed]"
          },
          "metadata": {}
        }
      ]
    },
    {
      "cell_type": "markdown",
      "metadata": {
        "id": "exLl4NFar5Vi"
      },
      "source": [
        "Take a look at the confusion matrix to see where the model made its mistakes:"
      ]
    },
    {
      "cell_type": "code",
      "execution_count": 35,
      "metadata": {
        "id": "gjaOvqpRy85e",
        "colab": {
          "base_uri": "https://localhost:8080/"
        },
        "outputId": "55c75d54-cb07-410b-ff13-293f6ef40898"
      },
      "outputs": [
        {
          "output_type": "stream",
          "name": "stdout",
          "text": [
            "+-----------+---------------+-----+\n",
            "|TargetLabel|PredictionLabel|count|\n",
            "+-----------+---------------+-----+\n",
            "|        Bug|          Other|    9|\n",
            "|    Support|        Support|   34|\n",
            "|    Feature|            Bug|    1|\n",
            "|      Other|        Support|   18|\n",
            "|        Bug|            Bug|   10|\n",
            "|    Support|          Other|   33|\n",
            "|    Feature|        Support|    1|\n",
            "|        Bug|        Feature|    1|\n",
            "|        Bug|        Support|    7|\n",
            "|    Support|            Bug|    8|\n",
            "|      Other|          Other|   48|\n",
            "|    Support|        Feature|    8|\n",
            "|      Other|            Bug|   11|\n",
            "|    Feature|        Feature|    5|\n",
            "|      Other|        Feature|    6|\n",
            "|    Feature|          Other|    1|\n",
            "+-----------+---------------+-----+\n",
            "\n"
          ]
        }
      ],
      "source": [
        "# generate the hits/misses\n",
        "confusion_table = predictions_validate.groupBy('label','prediction').count()\n",
        "\n",
        "# Get the labels back from the model\n",
        "from pyspark.ml.feature import IndexToString\n",
        "t_labels = IndexToString(inputCol=\"label\", outputCol=\"TargetLabel\")\n",
        "p_labels = IndexToString(inputCol='prediction', outputCol=\"PredictionLabel\", labels=[\"Other\", \"Support\", \"Bug\", \"Feature\"]) \n",
        "\n",
        "confusion_table = t_labels.transform(confusion_table)\n",
        "confusion_table = p_labels.transform(confusion_table)\n",
        "confusion_table = confusion_table.select(col(\"TargetLabel\"), col(\"PredictionLabel\"), col(\"count\"))\n",
        "\n",
        "#display the table with the confusion results\n",
        "confusion_table.show()"
      ]
    },
    {
      "cell_type": "markdown",
      "metadata": {
        "application/vnd.databricks.v1+cell": {
          "cellMetadata": {},
          "inputWidgets": {},
          "nuid": "2a2f17dd-7fe1-40b6-91f6-2a926e0adb1b",
          "showTitle": false,
          "title": ""
        },
        "id": "gn6ZXJSI1akt"
      },
      "source": [
        "## Stage 5\n",
        "\n",
        "Grid Search for optimizing model"
      ]
    },
    {
      "cell_type": "markdown",
      "source": [
        "### Logistic Regression\n",
        "\n",
        "Use grid search with cross validate to find potentially better model parameters.\n",
        "\n",
        "We will use the lr (LogisticRegression classifier) we created earlier"
      ],
      "metadata": {
        "id": "toEWMqL2XMza"
      }
    },
    {
      "cell_type": "code",
      "execution_count": 36,
      "metadata": {
        "application/vnd.databricks.v1+cell": {
          "cellMetadata": {},
          "inputWidgets": {},
          "nuid": "0f5f2735-323d-4bd6-8140-fc272409d948",
          "showTitle": false,
          "title": ""
        },
        "id": "YNzRE6-rf9s9"
      },
      "outputs": [],
      "source": [
        "from pyspark.ml.evaluation import MulticlassClassificationEvaluator\n",
        "from pyspark.ml.tuning import CrossValidator, ParamGridBuilder\n",
        "import numpy as np\n",
        "\n",
        "\n",
        "paramGrid_lr = ParamGridBuilder() \\\n",
        "    .addGrid(lr.regParam, [0, 0.01, 0.1, 1, 10]) \\\n",
        "    .addGrid(lr.elasticNetParam, [0, 1]) \\\n",
        "    .build()\n",
        "\n",
        "# MCE metricName=\"f1\" (default scoring metric)\n",
        "evaluator = MulticlassClassificationEvaluator()\n",
        "\n",
        "cv = CrossValidator(estimator=lr,\n",
        "                    estimatorParamMaps=paramGrid_lr,\n",
        "                    evaluator=evaluator,\n",
        "                    numFolds=5,\n",
        "                    seed=9)\n",
        "\n",
        "# use the output from the NLP train pipeline\n",
        "cvModel = cv.fit(nlp_train)"
      ]
    },
    {
      "cell_type": "code",
      "execution_count": 37,
      "metadata": {
        "id": "9GQWHUdbuydr"
      },
      "outputs": [],
      "source": [
        "# save the model to make future analysis easier (won't have to re-perform grid search)\n",
        "from pyspark.ml.tuning import CrossValidatorModel\n",
        "cvModel.write().overwrite().save(\"./trainedmodels/cvlr\")\n",
        "cvModel = CrossValidatorModel.load(\"./trainedmodels/cvlr\")"
      ]
    },
    {
      "cell_type": "code",
      "execution_count": 38,
      "metadata": {
        "application/vnd.databricks.v1+cell": {
          "cellMetadata": {},
          "inputWidgets": {},
          "nuid": "506f7c77-9a9e-49ee-ba46-4dfdaa52e6f6",
          "showTitle": false,
          "title": ""
        },
        "id": "eZChA8w24Ce0",
        "colab": {
          "base_uri": "https://localhost:8080/"
        },
        "outputId": "f934d630-5af3-4b42-c2bb-a17709bd1bbe"
      },
      "outputs": [
        {
          "output_type": "execute_result",
          "data": {
            "text/plain": [
              "{Param(parent='LogisticRegression_7c337dfc6106', name='aggregationDepth', doc='suggested depth for treeAggregate (>= 2).'): 2,\n",
              " Param(parent='LogisticRegression_7c337dfc6106', name='elasticNetParam', doc='the ElasticNet mixing parameter, in range [0, 1]. For alpha = 0, the penalty is an L2 penalty. For alpha = 1, it is an L1 penalty.'): 0.0,\n",
              " Param(parent='LogisticRegression_7c337dfc6106', name='family', doc='The name of family which is a description of the label distribution to be used in the model. Supported options: auto, binomial, multinomial'): 'auto',\n",
              " Param(parent='LogisticRegression_7c337dfc6106', name='featuresCol', doc='features column name.'): 'features',\n",
              " Param(parent='LogisticRegression_7c337dfc6106', name='fitIntercept', doc='whether to fit an intercept term.'): True,\n",
              " Param(parent='LogisticRegression_7c337dfc6106', name='labelCol', doc='label column name.'): 'label',\n",
              " Param(parent='LogisticRegression_7c337dfc6106', name='maxBlockSizeInMB', doc='maximum memory in MB for stacking input data into blocks. Data is stacked within partitions. If more than remaining data size in a partition then it is adjusted to the data size. Default 0.0 represents choosing optimal value, depends on specific algorithm. Must be >= 0.'): 0.0,\n",
              " Param(parent='LogisticRegression_7c337dfc6106', name='maxIter', doc='max number of iterations (>= 0).'): 100,\n",
              " Param(parent='LogisticRegression_7c337dfc6106', name='predictionCol', doc='prediction column name.'): 'prediction',\n",
              " Param(parent='LogisticRegression_7c337dfc6106', name='probabilityCol', doc='Column name for predicted class conditional probabilities. Note: Not all models output well-calibrated probability estimates! These probabilities should be treated as confidences, not precise probabilities.'): 'probability',\n",
              " Param(parent='LogisticRegression_7c337dfc6106', name='rawPredictionCol', doc='raw prediction (a.k.a. confidence) column name.'): 'rawPrediction',\n",
              " Param(parent='LogisticRegression_7c337dfc6106', name='regParam', doc='regularization parameter (>= 0).'): 0.1,\n",
              " Param(parent='LogisticRegression_7c337dfc6106', name='standardization', doc='whether to standardize the training features before fitting the model.'): True,\n",
              " Param(parent='LogisticRegression_7c337dfc6106', name='threshold', doc='Threshold in binary classification prediction, in range [0, 1]. If threshold and thresholds are both set, they must match.e.g. if threshold is p, then thresholds must be equal to [1-p, p].'): 0.5,\n",
              " Param(parent='LogisticRegression_7c337dfc6106', name='tol', doc='the convergence tolerance for iterative algorithms (>= 0).'): 1e-06}"
            ]
          },
          "metadata": {},
          "execution_count": 38
        }
      ],
      "source": [
        "# the parameters for the best model:\n",
        "cvModel.bestModel.extractParamMap()"
      ]
    },
    {
      "cell_type": "code",
      "execution_count": 39,
      "metadata": {
        "application/vnd.databricks.v1+cell": {
          "cellMetadata": {},
          "inputWidgets": {},
          "nuid": "0ce26a07-bd69-4323-8285-38b68da5b46a",
          "showTitle": false,
          "title": ""
        },
        "id": "FOdqZ1se4Ce1",
        "colab": {
          "base_uri": "https://localhost:8080/"
        },
        "outputId": "7570af82-d207-4e3c-d4e4-40d5b2aaa76d"
      },
      "outputs": [
        {
          "output_type": "stream",
          "name": "stdout",
          "text": [
            "[0.4829413780903705, 0.4829413780903705, 0.49170877529621726, 0.4891459129227088, 0.4978882781559933, 0.2648432438321038, 0.48874479547318617, 0.2648432438321038, 0.4907794028896253, 0.2648432438321038]\n"
          ]
        },
        {
          "output_type": "execute_result",
          "data": {
            "text/plain": [
              "0.42186796524147835"
            ]
          },
          "metadata": {},
          "execution_count": 39
        }
      ],
      "source": [
        "# get the accuracy metrics for the models. This is a list.\n",
        "avgMetricsGrid = cvModel.avgMetrics\n",
        "print(avgMetricsGrid)\n",
        "np.mean(cvModel.avgMetrics)"
      ]
    },
    {
      "cell_type": "code",
      "source": [
        "# call helper to plot heatmap\n",
        "heatmap_df = logReg_cv_scores_heatmap(paramGrid_lr, cvModel)\n",
        "heatmap_df"
      ],
      "metadata": {
        "id": "b26_Ci2Yddl-",
        "colab": {
          "base_uri": "https://localhost:8080/",
          "height": 615
        },
        "outputId": "ceae59fb-7e0a-4ebd-921c-b8f09a5fa006"
      },
      "execution_count": 40,
      "outputs": [
        {
          "output_type": "execute_result",
          "data": {
            "text/plain": [
              "elasticNetParam       0.0       1.0\n",
              "regParam                           \n",
              "0.0              0.482941  0.482941\n",
              "0.01             0.491709  0.489146\n",
              "0.1              0.497888  0.264843\n",
              "1.0              0.488745  0.264843\n",
              "10.0             0.490779  0.264843"
            ],
            "text/html": [
              "\n",
              "  <div id=\"df-0942d808-302b-41b7-a431-f2f05cb33d84\">\n",
              "    <div class=\"colab-df-container\">\n",
              "      <div>\n",
              "<style scoped>\n",
              "    .dataframe tbody tr th:only-of-type {\n",
              "        vertical-align: middle;\n",
              "    }\n",
              "\n",
              "    .dataframe tbody tr th {\n",
              "        vertical-align: top;\n",
              "    }\n",
              "\n",
              "    .dataframe thead th {\n",
              "        text-align: right;\n",
              "    }\n",
              "</style>\n",
              "<table border=\"1\" class=\"dataframe\">\n",
              "  <thead>\n",
              "    <tr style=\"text-align: right;\">\n",
              "      <th>elasticNetParam</th>\n",
              "      <th>0.0</th>\n",
              "      <th>1.0</th>\n",
              "    </tr>\n",
              "    <tr>\n",
              "      <th>regParam</th>\n",
              "      <th></th>\n",
              "      <th></th>\n",
              "    </tr>\n",
              "  </thead>\n",
              "  <tbody>\n",
              "    <tr>\n",
              "      <th>0.0</th>\n",
              "      <td>0.482941</td>\n",
              "      <td>0.482941</td>\n",
              "    </tr>\n",
              "    <tr>\n",
              "      <th>0.01</th>\n",
              "      <td>0.491709</td>\n",
              "      <td>0.489146</td>\n",
              "    </tr>\n",
              "    <tr>\n",
              "      <th>0.1</th>\n",
              "      <td>0.497888</td>\n",
              "      <td>0.264843</td>\n",
              "    </tr>\n",
              "    <tr>\n",
              "      <th>1.0</th>\n",
              "      <td>0.488745</td>\n",
              "      <td>0.264843</td>\n",
              "    </tr>\n",
              "    <tr>\n",
              "      <th>10.0</th>\n",
              "      <td>0.490779</td>\n",
              "      <td>0.264843</td>\n",
              "    </tr>\n",
              "  </tbody>\n",
              "</table>\n",
              "</div>\n",
              "      <button class=\"colab-df-convert\" onclick=\"convertToInteractive('df-0942d808-302b-41b7-a431-f2f05cb33d84')\"\n",
              "              title=\"Convert this dataframe to an interactive table.\"\n",
              "              style=\"display:none;\">\n",
              "        \n",
              "  <svg xmlns=\"http://www.w3.org/2000/svg\" height=\"24px\"viewBox=\"0 0 24 24\"\n",
              "       width=\"24px\">\n",
              "    <path d=\"M0 0h24v24H0V0z\" fill=\"none\"/>\n",
              "    <path d=\"M18.56 5.44l.94 2.06.94-2.06 2.06-.94-2.06-.94-.94-2.06-.94 2.06-2.06.94zm-11 1L8.5 8.5l.94-2.06 2.06-.94-2.06-.94L8.5 2.5l-.94 2.06-2.06.94zm10 10l.94 2.06.94-2.06 2.06-.94-2.06-.94-.94-2.06-.94 2.06-2.06.94z\"/><path d=\"M17.41 7.96l-1.37-1.37c-.4-.4-.92-.59-1.43-.59-.52 0-1.04.2-1.43.59L10.3 9.45l-7.72 7.72c-.78.78-.78 2.05 0 2.83L4 21.41c.39.39.9.59 1.41.59.51 0 1.02-.2 1.41-.59l7.78-7.78 2.81-2.81c.8-.78.8-2.07 0-2.86zM5.41 20L4 18.59l7.72-7.72 1.47 1.35L5.41 20z\"/>\n",
              "  </svg>\n",
              "      </button>\n",
              "      \n",
              "  <style>\n",
              "    .colab-df-container {\n",
              "      display:flex;\n",
              "      flex-wrap:wrap;\n",
              "      gap: 12px;\n",
              "    }\n",
              "\n",
              "    .colab-df-convert {\n",
              "      background-color: #E8F0FE;\n",
              "      border: none;\n",
              "      border-radius: 50%;\n",
              "      cursor: pointer;\n",
              "      display: none;\n",
              "      fill: #1967D2;\n",
              "      height: 32px;\n",
              "      padding: 0 0 0 0;\n",
              "      width: 32px;\n",
              "    }\n",
              "\n",
              "    .colab-df-convert:hover {\n",
              "      background-color: #E2EBFA;\n",
              "      box-shadow: 0px 1px 2px rgba(60, 64, 67, 0.3), 0px 1px 3px 1px rgba(60, 64, 67, 0.15);\n",
              "      fill: #174EA6;\n",
              "    }\n",
              "\n",
              "    [theme=dark] .colab-df-convert {\n",
              "      background-color: #3B4455;\n",
              "      fill: #D2E3FC;\n",
              "    }\n",
              "\n",
              "    [theme=dark] .colab-df-convert:hover {\n",
              "      background-color: #434B5C;\n",
              "      box-shadow: 0px 1px 3px 1px rgba(0, 0, 0, 0.15);\n",
              "      filter: drop-shadow(0px 1px 2px rgba(0, 0, 0, 0.3));\n",
              "      fill: #FFFFFF;\n",
              "    }\n",
              "  </style>\n",
              "\n",
              "      <script>\n",
              "        const buttonEl =\n",
              "          document.querySelector('#df-0942d808-302b-41b7-a431-f2f05cb33d84 button.colab-df-convert');\n",
              "        buttonEl.style.display =\n",
              "          google.colab.kernel.accessAllowed ? 'block' : 'none';\n",
              "\n",
              "        async function convertToInteractive(key) {\n",
              "          const element = document.querySelector('#df-0942d808-302b-41b7-a431-f2f05cb33d84');\n",
              "          const dataTable =\n",
              "            await google.colab.kernel.invokeFunction('convertToInteractive',\n",
              "                                                     [key], {});\n",
              "          if (!dataTable) return;\n",
              "\n",
              "          const docLinkHtml = 'Like what you see? Visit the ' +\n",
              "            '<a target=\"_blank\" href=https://colab.research.google.com/notebooks/data_table.ipynb>data table notebook</a>'\n",
              "            + ' to learn more about interactive tables.';\n",
              "          element.innerHTML = '';\n",
              "          dataTable['output_type'] = 'display_data';\n",
              "          await google.colab.output.renderOutput(dataTable, element);\n",
              "          const docLink = document.createElement('div');\n",
              "          docLink.innerHTML = docLinkHtml;\n",
              "          element.appendChild(docLink);\n",
              "        }\n",
              "      </script>\n",
              "    </div>\n",
              "  </div>\n",
              "  "
            ]
          },
          "metadata": {},
          "execution_count": 40
        },
        {
          "output_type": "display_data",
          "data": {
            "text/plain": [
              "<Figure size 720x432 with 2 Axes>"
            ],
            "image/png": "[encoded data removed]"
          },
          "metadata": {}
        }
      ]
    },
    {
      "cell_type": "markdown",
      "metadata": {
        "id": "0ehczOIxCSKo"
      },
      "source": [
        "Now, we will fit our best model on the validation data again:"
      ]
    },
    {
      "cell_type": "code",
      "execution_count": 41,
      "metadata": {
        "id": "Ui9omnQsCaer"
      },
      "outputs": [],
      "source": [
        "predictions_best_model_lr = cvModel.transform(nlp_validate)"
      ]
    },
    {
      "cell_type": "code",
      "execution_count": 42,
      "metadata": {
        "id": "9MbcEWKPCkIc",
        "colab": {
          "base_uri": "https://localhost:8080/"
        },
        "outputId": "29855e15-9efa-4d5a-bfcd-58abb33b4093"
      },
      "outputs": [
        {
          "output_type": "stream",
          "name": "stdout",
          "text": [
            "Best Validation Accuracy Score (LR): 0.5274\n",
            "Best Validation f1 (LR): 0.4996\n"
          ]
        }
      ],
      "source": [
        "accuracy = predictions_best_model_lr.filter(predictions_best_model_lr.label == predictions_best_model_lr.prediction).count() / float(predictions_best_model_lr.count())\n",
        "score = evaluator.evaluate(predictions_best_model_lr)\n",
        "print(\"Best Validation Accuracy Score (LR): {0:.4f}\".format(accuracy))\n",
        "print(\"Best Validation {0} (LR): {1:.4f}\".format(evaluator.getMetricName(), score))"
      ]
    },
    {
      "cell_type": "code",
      "execution_count": 43,
      "metadata": {
        "id": "H8MIQGFyCose",
        "colab": {
          "base_uri": "https://localhost:8080/"
        },
        "outputId": "2e51ba97-fde1-4c8f-b326-583d8acd40e0"
      },
      "outputs": [
        {
          "output_type": "stream",
          "name": "stdout",
          "text": [
            "+-----------+---------------+-----+\n",
            "|TargetLabel|PredictionLabel|count|\n",
            "+-----------+---------------+-----+\n",
            "|        Bug|          Other|   12|\n",
            "|    Support|        Support|   46|\n",
            "|      Other|        Support|   26|\n",
            "|    Support|          Other|   37|\n",
            "|        Bug|            Bug|    3|\n",
            "|    Feature|        Support|    3|\n",
            "|        Bug|        Feature|    1|\n",
            "|        Bug|        Support|   11|\n",
            "|      Other|          Other|   56|\n",
            "|      Other|            Bug|    1|\n",
            "|    Feature|        Feature|    1|\n",
            "|    Feature|          Other|    4|\n",
            "+-----------+---------------+-----+\n",
            "\n"
          ]
        }
      ],
      "source": [
        "# generate the hits/misses\n",
        "confusion_table = predictions_best_model_lr.groupBy('label','prediction').count()\n",
        "\n",
        "# Get the labels back from the model\n",
        "from pyspark.ml.feature import IndexToString\n",
        "t_labels = IndexToString(inputCol=\"label\", outputCol=\"TargetLabel\")\n",
        "p_labels = IndexToString(inputCol='prediction', outputCol=\"PredictionLabel\", labels=[\"Other\", \"Support\", \"Bug\", \"Feature\"]) \n",
        "\n",
        "confusion_table = t_labels.transform(confusion_table)\n",
        "confusion_table = p_labels.transform(confusion_table)\n",
        "confusion_table = confusion_table.select(col(\"TargetLabel\"), col(\"PredictionLabel\"), col(\"count\"))\n",
        "\n",
        "#display the table with the confusion results\n",
        "confusion_table.show()"
      ]
    },
    {
      "cell_type": "markdown",
      "source": [
        "A few more metrics:"
      ],
      "metadata": {
        "id": "yuqNHx-P_ZwN"
      }
    },
    {
      "cell_type": "code",
      "source": [
        "# call helper function to plot confusion matrix\n",
        "confusion_matrix_plotter(predictions_best_model_lr, \"LR Model\")"
      ],
      "metadata": {
        "id": "YEpjOoTLe_6y",
        "colab": {
          "base_uri": "https://localhost:8080/",
          "height": 524
        },
        "outputId": "55728cb3-3727-496a-ee20-e8b403b80741"
      },
      "execution_count": 44,
      "outputs": [
        {
          "output_type": "stream",
          "name": "stdout",
          "text": [
            "[[56. 26.  1.  0.]\n",
            " [37. 46.  0.  0.]\n",
            " [12. 11.  3.  1.]\n",
            " [ 4.  3.  0.  1.]]\n"
          ]
        },
        {
          "output_type": "display_data",
          "data": {
            "text/plain": [
              "<Figure size 720x432 with 2 Axes>"
            ],
            "image/png": "[encoded data removed]"
          },
          "metadata": {}
        }
      ]
    },
    {
      "cell_type": "code",
      "source": [
        "labels = [\"Other\", \"Support\", \"Bug\", \"Feature\"]\n",
        "metrics = MulticlassMetrics(predictions_best_model_lr.select(col('label'),col('prediction')).rdd)\n",
        "\n",
        "print(\"Accuracy: \", metrics.accuracy)\n",
        "for idx, label in enumerate(labels):\n",
        "  print(\"Recall for {}: {}\".format(label, metrics.precision(idx)))\n",
        "  print(\"Precision for {}: {}\".format(label, metrics.recall(idx)))\n",
        "  print(\"f1 score for {}: {}\".format(label, metrics.fMeasure(float(idx), 1.0)))"
      ],
      "metadata": {
        "id": "5DeTI7xhDn-c",
        "colab": {
          "base_uri": "https://localhost:8080/"
        },
        "outputId": "f80709c1-e0bc-431e-d6d5-aa775afc690e"
      },
      "execution_count": 45,
      "outputs": [
        {
          "output_type": "stream",
          "name": "stdout",
          "text": [
            "Accuracy:  0.527363184079602\n",
            "Recall for Other: 0.6746987951807228\n",
            "Precision for Other: 0.5137614678899083\n",
            "f1 score for Other: 0.5833333333333333\n",
            "Recall for Support: 0.5542168674698795\n",
            "Precision for Support: 0.5348837209302325\n",
            "f1 score for Support: 0.5443786982248521\n",
            "Recall for Bug: 0.1111111111111111\n",
            "Precision for Bug: 0.75\n",
            "f1 score for Bug: 0.19354838709677416\n",
            "Recall for Feature: 0.125\n",
            "Precision for Feature: 0.5\n",
            "f1 score for Feature: 0.2\n"
          ]
        }
      ]
    },
    {
      "cell_type": "code",
      "source": [
        "predictions_best_model_lr.select(col('label'),col('prediction')).groupBy(\"label\", \"prediction\").sum().show()"
      ],
      "metadata": {
        "colab": {
          "base_uri": "https://localhost:8080/"
        },
        "id": "1HhZ0EUxnWNS",
        "outputId": "71bad038-d364-475d-9a05-608ad8826f3b"
      },
      "execution_count": 46,
      "outputs": [
        {
          "output_type": "stream",
          "name": "stdout",
          "text": [
            "+-----+----------+----------+---------------+\n",
            "|label|prediction|sum(label)|sum(prediction)|\n",
            "+-----+----------+----------+---------------+\n",
            "|  2.0|       0.0|      24.0|            0.0|\n",
            "|  1.0|       1.0|      46.0|           46.0|\n",
            "|  0.0|       1.0|       0.0|           26.0|\n",
            "|  1.0|       0.0|      37.0|            0.0|\n",
            "|  2.0|       2.0|       6.0|            6.0|\n",
            "|  3.0|       1.0|       9.0|            3.0|\n",
            "|  2.0|       3.0|       2.0|            3.0|\n",
            "|  2.0|       1.0|      22.0|           11.0|\n",
            "|  0.0|       0.0|       0.0|            0.0|\n",
            "|  0.0|       2.0|       0.0|            2.0|\n",
            "|  3.0|       3.0|       3.0|            3.0|\n",
            "|  3.0|       0.0|      12.0|            0.0|\n",
            "+-----+----------+----------+---------------+\n",
            "\n"
          ]
        }
      ]
    },
    {
      "cell_type": "markdown",
      "metadata": {
        "id": "pJd34w6YAi0v"
      },
      "source": [
        "### Naive Bayes\n",
        "Create a new pipeline for Naive Bayes"
      ]
    },
    {
      "cell_type": "code",
      "execution_count": 47,
      "metadata": {
        "application/vnd.databricks.v1+cell": {
          "cellMetadata": {},
          "inputWidgets": {},
          "nuid": "6e585fdb-36ea-4c42-8ee6-5be359e2a9a5",
          "showTitle": false,
          "title": ""
        },
        "id": "ocv1-hB24Ce1"
      },
      "outputs": [],
      "source": [
        "from pyspark.ml.classification import NaiveBayes\n",
        "from pyspark.ml.evaluation import MulticlassClassificationEvaluator\n",
        "from pyspark.ml.tuning import CrossValidator, ParamGridBuilder\n",
        "\n",
        "nb = NaiveBayes()\n",
        "\n",
        "paramGrid_nb = ParamGridBuilder() \\\n",
        "    .addGrid(nb.smoothing, [0.0, 0.2, 0.4, 0.6, 0.8, 1.0]) \\\n",
        "    .addGrid(nb.modelType, [\"multinomial\", \"complement\", \"gaussian\"]) \\\n",
        "    .build()\n",
        "\n",
        "# MCE metricName=\"f1\" (default scoring metric)\n",
        "evaluator = MulticlassClassificationEvaluator()\n",
        "\n",
        "cv_nb = CrossValidator(estimator=nb,\n",
        "                    estimatorParamMaps=paramGrid_nb,\n",
        "                    evaluator=evaluator,\n",
        "                    numFolds=5,\n",
        "                    seed=9)\n",
        "\n",
        "cvModelNB = cv_nb.fit(nlp_train)"
      ]
    },
    {
      "cell_type": "code",
      "execution_count": 48,
      "metadata": {
        "id": "7xFcwI6_v4_F"
      },
      "outputs": [],
      "source": [
        "# save the model to make future analysis easier (won't have to re-perform grid search)\n",
        "from pyspark.ml.tuning import CrossValidatorModel\n",
        "cvModelNB.write().overwrite().save(\"./trainedmodels/cvnb\")\n",
        "cvModelNB = CrossValidatorModel.load(\"./trainedmodels/cvnb\")"
      ]
    },
    {
      "cell_type": "code",
      "source": [
        "# the parameters for the best model:\n",
        "cvModelNB.bestModel.extractParamMap()"
      ],
      "metadata": {
        "id": "68BaT4IrrPe4",
        "colab": {
          "base_uri": "https://localhost:8080/"
        },
        "outputId": "32c572a6-d8dd-46cf-b268-6a18a28436c2"
      },
      "execution_count": 49,
      "outputs": [
        {
          "output_type": "execute_result",
          "data": {
            "text/plain": [
              "{Param(parent='NaiveBayes_2e69d3d8e46e', name='featuresCol', doc='features column name.'): 'features',\n",
              " Param(parent='NaiveBayes_2e69d3d8e46e', name='labelCol', doc='label column name.'): 'label',\n",
              " Param(parent='NaiveBayes_2e69d3d8e46e', name='modelType', doc='The model type which is a string (case-sensitive). Supported options: multinomial (default), bernoulli and gaussian.'): 'complement',\n",
              " Param(parent='NaiveBayes_2e69d3d8e46e', name='predictionCol', doc='prediction column name.'): 'prediction',\n",
              " Param(parent='NaiveBayes_2e69d3d8e46e', name='probabilityCol', doc='Column name for predicted class conditional probabilities. Note: Not all models output well-calibrated probability estimates! These probabilities should be treated as confidences, not precise probabilities.'): 'probability',\n",
              " Param(parent='NaiveBayes_2e69d3d8e46e', name='rawPredictionCol', doc='raw prediction (a.k.a. confidence) column name.'): 'rawPrediction',\n",
              " Param(parent='NaiveBayes_2e69d3d8e46e', name='smoothing', doc='The smoothing parameter, should be >= 0, default is 1.0'): 0.2}"
            ]
          },
          "metadata": {},
          "execution_count": 49
        }
      ]
    },
    {
      "cell_type": "code",
      "execution_count": 50,
      "metadata": {
        "id": "on0Hm5blwBMq",
        "colab": {
          "base_uri": "https://localhost:8080/"
        },
        "outputId": "38129265-5565-4c00-b18a-2d41a605b5d4"
      },
      "outputs": [
        {
          "output_type": "stream",
          "name": "stdout",
          "text": [
            "[0.39886667303320333, 0.390487351286241, 0.4488035265700841, 0.4793758467551451, 0.5049638854590692, 0.4488035265700841, 0.48153822085517206, 0.49683112073323443, 0.4488035265700841, 0.4797111380509994, 0.4927766919293613, 0.4488035265700841, 0.48111397515063536, 0.49041983094462505, 0.4488035265700841, 0.4782675250964634, 0.48437077854641253, 0.4488035265700841]\n"
          ]
        },
        {
          "output_type": "execute_result",
          "data": {
            "text/plain": [
              "0.46397467762561484"
            ]
          },
          "metadata": {},
          "execution_count": 50
        }
      ],
      "source": [
        "# get the accuracy metrics for the models. This is a list.\n",
        "import numpy as np\n",
        "avgMetricsGridNB = cvModelNB.avgMetrics\n",
        "print(avgMetricsGridNB)\n",
        "np.mean(cvModelNB.avgMetrics)"
      ]
    },
    {
      "cell_type": "code",
      "source": [
        "heatmap_nb_df = nb_cv_scores_heatmap(paramGrid_nb, cvModelNB)\n",
        "heatmap_nb_df"
      ],
      "metadata": {
        "id": "5-bO1cJ6vmok",
        "colab": {
          "base_uri": "https://localhost:8080/",
          "height": 1000
        },
        "outputId": "3de2f8bb-e8cc-48d9-d875-5615a8ed0421"
      },
      "execution_count": 51,
      "outputs": [
        {
          "output_type": "stream",
          "name": "stdout",
          "text": [
            "+---------+-----------+-------------------+\n",
            "|smoothing|  modelType|              Score|\n",
            "+---------+-----------+-------------------+\n",
            "|      0.0|multinomial|0.39886667303320333|\n",
            "|      0.0| complement|  0.390487351286241|\n",
            "|      0.0|   gaussian| 0.4488035265700841|\n",
            "|      0.2|multinomial| 0.4793758467551451|\n",
            "|      0.2| complement| 0.5049638854590692|\n",
            "|      0.2|   gaussian| 0.4488035265700841|\n",
            "|      0.4|multinomial|0.48153822085517206|\n",
            "|      0.4| complement|0.49683112073323443|\n",
            "|      0.4|   gaussian| 0.4488035265700841|\n",
            "|      0.6|multinomial| 0.4797111380509994|\n",
            "|      0.6| complement| 0.4927766919293613|\n",
            "|      0.6|   gaussian| 0.4488035265700841|\n",
            "|      0.8|multinomial|0.48111397515063536|\n",
            "|      0.8| complement|0.49041983094462505|\n",
            "|      0.8|   gaussian| 0.4488035265700841|\n",
            "|      1.0|multinomial| 0.4782675250964634|\n",
            "|      1.0| complement|0.48437077854641253|\n",
            "|      1.0|   gaussian| 0.4488035265700841|\n",
            "+---------+-----------+-------------------+\n",
            "\n"
          ]
        },
        {
          "output_type": "execute_result",
          "data": {
            "text/plain": [
              "modelType  complement  gaussian  multinomial\n",
              "smoothing                                   \n",
              "0.0          0.390487  0.448804     0.398867\n",
              "0.2          0.504964  0.448804     0.479376\n",
              "0.4          0.496831  0.448804     0.481538\n",
              "0.6          0.492777  0.448804     0.479711\n",
              "0.8          0.490420  0.448804     0.481114\n",
              "1.0          0.484371  0.448804     0.478268"
            ],
            "text/html": [
              "\n",
              "  <div id=\"df-e02b92d4-4b1a-4336-86bf-08328fbd198b\">\n",
              "    <div class=\"colab-df-container\">\n",
              "      <div>\n",
              "<style scoped>\n",
              "    .dataframe tbody tr th:only-of-type {\n",
              "        vertical-align: middle;\n",
              "    }\n",
              "\n",
              "    .dataframe tbody tr th {\n",
              "        vertical-align: top;\n",
              "    }\n",
              "\n",
              "    .dataframe thead th {\n",
              "        text-align: right;\n",
              "    }\n",
              "</style>\n",
              "<table border=\"1\" class=\"dataframe\">\n",
              "  <thead>\n",
              "    <tr style=\"text-align: right;\">\n",
              "      <th>modelType</th>\n",
              "      <th>complement</th>\n",
              "      <th>gaussian</th>\n",
              "      <th>multinomial</th>\n",
              "    </tr>\n",
              "    <tr>\n",
              "      <th>smoothing</th>\n",
              "      <th></th>\n",
              "      <th></th>\n",
              "      <th></th>\n",
              "    </tr>\n",
              "  </thead>\n",
              "  <tbody>\n",
              "    <tr>\n",
              "      <th>0.0</th>\n",
              "      <td>0.390487</td>\n",
              "      <td>0.448804</td>\n",
              "      <td>0.398867</td>\n",
              "    </tr>\n",
              "    <tr>\n",
              "      <th>0.2</th>\n",
              "      <td>0.504964</td>\n",
              "      <td>0.448804</td>\n",
              "      <td>0.479376</td>\n",
              "    </tr>\n",
              "    <tr>\n",
              "      <th>0.4</th>\n",
              "      <td>0.496831</td>\n",
              "      <td>0.448804</td>\n",
              "      <td>0.481538</td>\n",
              "    </tr>\n",
              "    <tr>\n",
              "      <th>0.6</th>\n",
              "      <td>0.492777</td>\n",
              "      <td>0.448804</td>\n",
              "      <td>0.479711</td>\n",
              "    </tr>\n",
              "    <tr>\n",
              "      <th>0.8</th>\n",
              "      <td>0.490420</td>\n",
              "      <td>0.448804</td>\n",
              "      <td>0.481114</td>\n",
              "    </tr>\n",
              "    <tr>\n",
              "      <th>1.0</th>\n",
              "      <td>0.484371</td>\n",
              "      <td>0.448804</td>\n",
              "      <td>0.478268</td>\n",
              "    </tr>\n",
              "  </tbody>\n",
              "</table>\n",
              "</div>\n",
              "      <button class=\"colab-df-convert\" onclick=\"convertToInteractive('df-e02b92d4-4b1a-4336-86bf-08328fbd198b')\"\n",
              "              title=\"Convert this dataframe to an interactive table.\"\n",
              "              style=\"display:none;\">\n",
              "        \n",
              "  <svg xmlns=\"http://www.w3.org/2000/svg\" height=\"24px\"viewBox=\"0 0 24 24\"\n",
              "       width=\"24px\">\n",
              "    <path d=\"M0 0h24v24H0V0z\" fill=\"none\"/>\n",
              "    <path d=\"M18.56 5.44l.94 2.06.94-2.06 2.06-.94-2.06-.94-.94-2.06-.94 2.06-2.06.94zm-11 1L8.5 8.5l.94-2.06 2.06-.94-2.06-.94L8.5 2.5l-.94 2.06-2.06.94zm10 10l.94 2.06.94-2.06 2.06-.94-2.06-.94-.94-2.06-.94 2.06-2.06.94z\"/><path d=\"M17.41 7.96l-1.37-1.37c-.4-.4-.92-.59-1.43-.59-.52 0-1.04.2-1.43.59L10.3 9.45l-7.72 7.72c-.78.78-.78 2.05 0 2.83L4 21.41c.39.39.9.59 1.41.59.51 0 1.02-.2 1.41-.59l7.78-7.78 2.81-2.81c.8-.78.8-2.07 0-2.86zM5.41 20L4 18.59l7.72-7.72 1.47 1.35L5.41 20z\"/>\n",
              "  </svg>\n",
              "      </button>\n",
              "      \n",
              "  <style>\n",
              "    .colab-df-container {\n",
              "      display:flex;\n",
              "      flex-wrap:wrap;\n",
              "      gap: 12px;\n",
              "    }\n",
              "\n",
              "    .colab-df-convert {\n",
              "      background-color: #E8F0FE;\n",
              "      border: none;\n",
              "      border-radius: 50%;\n",
              "      cursor: pointer;\n",
              "      display: none;\n",
              "      fill: #1967D2;\n",
              "      height: 32px;\n",
              "      padding: 0 0 0 0;\n",
              "      width: 32px;\n",
              "    }\n",
              "\n",
              "    .colab-df-convert:hover {\n",
              "      background-color: #E2EBFA;\n",
              "      box-shadow: 0px 1px 2px rgba(60, 64, 67, 0.3), 0px 1px 3px 1px rgba(60, 64, 67, 0.15);\n",
              "      fill: #174EA6;\n",
              "    }\n",
              "\n",
              "    [theme=dark] .colab-df-convert {\n",
              "      background-color: #3B4455;\n",
              "      fill: #D2E3FC;\n",
              "    }\n",
              "\n",
              "    [theme=dark] .colab-df-convert:hover {\n",
              "      background-color: #434B5C;\n",
              "      box-shadow: 0px 1px 3px 1px rgba(0, 0, 0, 0.15);\n",
              "      filter: drop-shadow(0px 1px 2px rgba(0, 0, 0, 0.3));\n",
              "      fill: #FFFFFF;\n",
              "    }\n",
              "  </style>\n",
              "\n",
              "      <script>\n",
              "        const buttonEl =\n",
              "          document.querySelector('#df-e02b92d4-4b1a-4336-86bf-08328fbd198b button.colab-df-convert');\n",
              "        buttonEl.style.display =\n",
              "          google.colab.kernel.accessAllowed ? 'block' : 'none';\n",
              "\n",
              "        async function convertToInteractive(key) {\n",
              "          const element = document.querySelector('#df-e02b92d4-4b1a-4336-86bf-08328fbd198b');\n",
              "          const dataTable =\n",
              "            await google.colab.kernel.invokeFunction('convertToInteractive',\n",
              "                                                     [key], {});\n",
              "          if (!dataTable) return;\n",
              "\n",
              "          const docLinkHtml = 'Like what you see? Visit the ' +\n",
              "            '<a target=\"_blank\" href=https://colab.research.google.com/notebooks/data_table.ipynb>data table notebook</a>'\n",
              "            + ' to learn more about interactive tables.';\n",
              "          element.innerHTML = '';\n",
              "          dataTable['output_type'] = 'display_data';\n",
              "          await google.colab.output.renderOutput(dataTable, element);\n",
              "          const docLink = document.createElement('div');\n",
              "          docLink.innerHTML = docLinkHtml;\n",
              "          element.appendChild(docLink);\n",
              "        }\n",
              "      </script>\n",
              "    </div>\n",
              "  </div>\n",
              "  "
            ]
          },
          "metadata": {},
          "execution_count": 51
        },
        {
          "output_type": "display_data",
          "data": {
            "text/plain": [
              "<Figure size 720x432 with 2 Axes>"
            ],
            "image/png": "[encoded data removed]"
          },
          "metadata": {}
        }
      ]
    },
    {
      "cell_type": "code",
      "source": [
        "predictions_best_model_nb = cvModelNB.transform(nlp_validate)"
      ],
      "metadata": {
        "id": "IDIRxfgzrYVb"
      },
      "execution_count": 52,
      "outputs": []
    },
    {
      "cell_type": "code",
      "source": [
        "accuracy = predictions_best_model_nb.filter(predictions_best_model_nb.label == predictions_best_model_nb.prediction).count() / float(predictions_best_model_nb.count())\n",
        "score = evaluator.evaluate(predictions_best_model_nb)\n",
        "print(\"Best Validation Accuracy Score (NB): {0:.4f}\".format(accuracy))\n",
        "print(\"Best Validation {0} (NB): {1:.4f}\".format(evaluator.getMetricName(), score))"
      ],
      "metadata": {
        "id": "Yf8LLvuort4B",
        "colab": {
          "base_uri": "https://localhost:8080/"
        },
        "outputId": "a0de3ecb-88a1-4622-93b6-3147937b17b5"
      },
      "execution_count": 53,
      "outputs": [
        {
          "output_type": "stream",
          "name": "stdout",
          "text": [
            "Best Validation Accuracy Score (NB): 0.5075\n",
            "Best Validation f1 (NB): 0.4699\n"
          ]
        }
      ]
    },
    {
      "cell_type": "code",
      "source": [
        "# generate the hits/misses\n",
        "confusion_table_nb = predictions_best_model_nb.groupBy('label','prediction').count()\n",
        "\n",
        "# Get the labels back from the model\n",
        "from pyspark.ml.feature import IndexToString\n",
        "t_labels = IndexToString(inputCol=\"label\", outputCol=\"TargetLabel\")\n",
        "p_labels = IndexToString(inputCol='prediction', outputCol=\"PredictionLabel\", labels=[\"Other\", \"Support\", \"Bug\", \"Feature\"]) \n",
        "\n",
        "confusion_table_nb = t_labels.transform(confusion_table_nb)\n",
        "confusion_table_nb = p_labels.transform(confusion_table_nb)\n",
        "confusion_table_nb = confusion_table_nb.select(col(\"TargetLabel\"), col(\"PredictionLabel\"), col(\"count\"))\n",
        "\n",
        "#display the table with the confusion results\n",
        "confusion_table_nb.show()"
      ],
      "metadata": {
        "id": "wv9Eh1Sfr9ob",
        "colab": {
          "base_uri": "https://localhost:8080/"
        },
        "outputId": "3efd654b-17f1-48c2-abf9-58b846c96956"
      },
      "execution_count": 54,
      "outputs": [
        {
          "output_type": "stream",
          "name": "stdout",
          "text": [
            "+-----------+---------------+-----+\n",
            "|TargetLabel|PredictionLabel|count|\n",
            "+-----------+---------------+-----+\n",
            "|        Bug|          Other|    6|\n",
            "|    Support|        Support|   67|\n",
            "|      Other|        Support|   46|\n",
            "|    Support|          Other|   12|\n",
            "|        Bug|            Bug|    2|\n",
            "|    Feature|        Support|    7|\n",
            "|        Bug|        Support|   19|\n",
            "|    Support|            Bug|    3|\n",
            "|      Other|          Other|   32|\n",
            "|    Support|        Feature|    1|\n",
            "|      Other|            Bug|    3|\n",
            "|    Feature|        Feature|    1|\n",
            "|      Other|        Feature|    2|\n",
            "+-----------+---------------+-----+\n",
            "\n"
          ]
        }
      ]
    },
    {
      "cell_type": "markdown",
      "source": [
        "Some More Metrics:"
      ],
      "metadata": {
        "id": "2hd8R41ZOmiw"
      }
    },
    {
      "cell_type": "code",
      "source": [
        "# generate confusion matrix w/ sklearn due to pyspark glitch (dropping 'Feature' row/col)\n",
        "from sklearn.metrics import confusion_matrix\n",
        "confusion_table_nb_SKL = predictions_best_model_nb\n",
        "\n",
        "from pyspark.ml.feature import IndexToString\n",
        "t_labels = IndexToString(inputCol=\"label\", outputCol=\"TargetLabel\")\n",
        "p_labels = IndexToString(inputCol='prediction', outputCol=\"PredictionLabel\", labels=[\"Other\", \"Support\", \"Bug\", \"Feature\"]) \n",
        "\n",
        "confusion_table_nb_SKL = t_labels.transform(confusion_table_nb_SKL)\n",
        "confusion_table_nb_SKL = p_labels.transform(confusion_table_nb_SKL)\n",
        "\n",
        "y_true = np.array(confusion_table_nb_SKL.select(col(\"TargetLabel\")).collect())\n",
        "y_pred = np.array(confusion_table_nb_SKL.select(col(\"PredictionLabel\")).collect())\n",
        "\n",
        "cm = confusion_matrix(y_true, y_pred, labels=[\"Other\", \"Support\", \"Bug\", \"Feature\"])\n",
        "print(np.sum(cm))\n",
        "confusion_matrix_plotter(cm, \"NB Model\", nparray='y')"
      ],
      "metadata": {
        "id": "852hBdLZwBiV",
        "colab": {
          "base_uri": "https://localhost:8080/",
          "height": 542
        },
        "outputId": "dbe565e1-d080-4e75-e9cd-cbb9cf0fb1d5"
      },
      "execution_count": 55,
      "outputs": [
        {
          "output_type": "stream",
          "name": "stdout",
          "text": [
            "201\n",
            "[[32 46  3  2]\n",
            " [12 67  3  1]\n",
            " [ 6 19  2  0]\n",
            " [ 0  7  0  1]]\n"
          ]
        },
        {
          "output_type": "display_data",
          "data": {
            "text/plain": [
              "<Figure size 720x432 with 2 Axes>"
            ],
            "image/png": "[encoded data removed]"
          },
          "metadata": {}
        }
      ]
    },
    {
      "cell_type": "code",
      "source": [
        "# call helper to plot confusion matrix\n",
        "confusion_matrix_plotter(predictions_best_model_nb, \"NB Model\")"
      ],
      "metadata": {
        "id": "cLbjwCsI2vDP",
        "colab": {
          "base_uri": "https://localhost:8080/",
          "height": 524
        },
        "outputId": "c6cd6469-60be-4ad5-d992-d1f36b5083cc"
      },
      "execution_count": 56,
      "outputs": [
        {
          "output_type": "stream",
          "name": "stdout",
          "text": [
            "[[32. 46.  3.  2.]\n",
            " [12. 67.  3.  1.]\n",
            " [ 6. 19.  2.  0.]\n",
            " [ 0.  7.  0.  1.]]\n"
          ]
        },
        {
          "output_type": "display_data",
          "data": {
            "text/plain": [
              "<Figure size 720x432 with 2 Axes>"
            ],
            "image/png": "[encoded data removed]"
          },
          "metadata": {}
        }
      ]
    },
    {
      "cell_type": "code",
      "source": [
        "predications_and_labels = predictions_best_model_nb.select(col('label'),col('prediction'))\n",
        "labels = [\"Other\", \"Support\", \"Bug\", \"Feature\"]\n",
        "metrics = MulticlassMetrics(predications_and_labels.rdd)"
      ],
      "metadata": {
        "id": "HfDw9YWoIwan"
      },
      "execution_count": 57,
      "outputs": []
    },
    {
      "cell_type": "code",
      "source": [
        "print(\"Accuracy: \", metrics.accuracy)\n",
        "for idx, label in enumerate(labels):\n",
        "  print(\"Recall for {}: {}\".format(label, metrics.precision(idx)))\n",
        "  print(\"Precision for {}: {}\".format(label, metrics.recall(idx)))\n",
        "  print(\"f1 score for {}: {}\".format(label, metrics.fMeasure(float(idx), 1.0)))"
      ],
      "metadata": {
        "id": "kh8WdM_dLMXv",
        "colab": {
          "base_uri": "https://localhost:8080/"
        },
        "outputId": "8bd4fc43-9a80-4a8f-8383-1b80fd794195"
      },
      "execution_count": 58,
      "outputs": [
        {
          "output_type": "stream",
          "name": "stdout",
          "text": [
            "Accuracy:  0.5074626865671642\n",
            "Recall for Other: 0.3855421686746988\n",
            "Precision for Other: 0.64\n",
            "f1 score for Other: 0.481203007518797\n",
            "Recall for Support: 0.8072289156626506\n",
            "Precision for Support: 0.48201438848920863\n",
            "f1 score for Support: 0.6036036036036037\n",
            "Recall for Bug: 0.07407407407407407\n",
            "Precision for Bug: 0.25\n",
            "f1 score for Bug: 0.11428571428571428\n",
            "Recall for Feature: 0.125\n",
            "Precision for Feature: 0.25\n",
            "f1 score for Feature: 0.16666666666666666\n"
          ]
        }
      ]
    },
    {
      "cell_type": "markdown",
      "source": [
        "### Post-Analysis"
      ],
      "metadata": {
        "id": "ooK_T9ZmsBhi"
      }
    },
    {
      "cell_type": "markdown",
      "source": [
        "Generate a list of all the misclassified issues for further manual analysis. We will use the best Logistic Regression classifier from the earlier grid search since it was our best overall model."
      ],
      "metadata": {
        "id": "5RUgyEkPr2-H"
      }
    },
    {
      "cell_type": "code",
      "source": [
        "# get the predictions from the model for each sample\n",
        "final_predictions = predictions_best_model_lr.select(col('number'), col('prediction'))\n",
        "\n",
        "# # Get the labels back from the model\n",
        "from pyspark.ml.feature import IndexToString\n",
        "p_labels = IndexToString(inputCol='prediction', outputCol=\"PredictionLabel\", labels=[\"Other\", \"Support\", \"Bug\", \"Feature\"])\n",
        "final_predictions = p_labels.transform(final_predictions)\n",
        "\n",
        "# join the predictions onto the original dataframe df, and filter for only misclassified issues\n",
        "misclassified = final_predictions.join(df, (final_predictions.number == df.number) & (final_predictions.PredictionLabel == df.Target), \"leftanti\")\n",
        "# add all columns back from the original df by inner joining\n",
        "misclassified = misclassified.join(df, misclassified.number == df.number, \"inner\")"
      ],
      "metadata": {
        "id": "-1sMdOipsAU5"
      },
      "execution_count": 59,
      "outputs": []
    },
    {
      "cell_type": "markdown",
      "source": [
        "There are 95 total misclassified issues from the validation set."
      ],
      "metadata": {
        "id": "OJ20NKoU7BVF"
      }
    },
    {
      "cell_type": "code",
      "source": [
        "misclassified.count()"
      ],
      "metadata": {
        "id": "fqPMA76E5mnS",
        "colab": {
          "base_uri": "https://localhost:8080/"
        },
        "outputId": "a06a1cea-3c4f-44b7-8afe-920790063cc3"
      },
      "execution_count": 60,
      "outputs": [
        {
          "output_type": "execute_result",
          "data": {
            "text/plain": [
              "95"
            ]
          },
          "metadata": {},
          "execution_count": 60
        }
      ]
    },
    {
      "cell_type": "markdown",
      "source": [
        "Download the files saved by the steps above"
      ],
      "metadata": {
        "id": "CsgfsA6BKE7I"
      }
    },
    {
      "cell_type": "code",
      "source": [
        "# export the misclassified labels to csv and then download\n",
        "panda_df = misclassified.toPandas()\n",
        "panda_df.to_csv(\"Misclassified Issues.csv\", index=False)\n",
        "files.download('/content/Misclassified Issues.csv')"
      ],
      "metadata": {
        "id": "w5hFq0fQzvsG",
        "colab": {
          "base_uri": "https://localhost:8080/",
          "height": 17
        },
        "outputId": "8b78f1dd-7d02-42b2-b6d6-5b6f4ae03f7f"
      },
      "execution_count": 61,
      "outputs": [
        {
          "output_type": "display_data",
          "data": {
            "text/plain": [
              "<IPython.core.display.Javascript object>"
            ],
            "application/javascript": [
              "\n",
              "    async function download(id, filename, size) {\n",
              "      if (!google.colab.kernel.accessAllowed) {\n",
              "        return;\n",
              "      }\n",
              "      const div = document.createElement('div');\n",
              "      const label = document.createElement('label');\n",
              "      label.textContent = `Downloading \"${filename}\": `;\n",
              "      div.appendChild(label);\n",
              "      const progress = document.createElement('progress');\n",
              "      progress.max = size;\n",
              "      div.appendChild(progress);\n",
              "      document.body.appendChild(div);\n",
              "\n",
              "      const buffers = [];\n",
              "      let downloaded = 0;\n",
              "\n",
              "      const channel = await google.colab.kernel.comms.open(id);\n",
              "      // Send a message to notify the kernel that we're ready.\n",
              "      channel.send({})\n",
              "\n",
              "      for await (const message of channel.messages) {\n",
              "        // Send a message to notify the kernel that we're ready.\n",
              "        channel.send({})\n",
              "        if (message.buffers) {\n",
              "          for (const buffer of message.buffers) {\n",
              "            buffers.push(buffer);\n",
              "            downloaded += buffer.byteLength;\n",
              "            progress.value = downloaded;\n",
              "          }\n",
              "        }\n",
              "      }\n",
              "      const blob = new Blob(buffers, {type: 'application/binary'});\n",
              "      const a = document.createElement('a');\n",
              "      a.href = window.URL.createObjectURL(blob);\n",
              "      a.download = filename;\n",
              "      div.appendChild(a);\n",
              "      a.click();\n",
              "      div.remove();\n",
              "    }\n",
              "  "
            ]
          },
          "metadata": {}
        },
        {
          "output_type": "display_data",
          "data": {
            "text/plain": [
              "<IPython.core.display.Javascript object>"
            ],
            "application/javascript": [
              "download(\"download_8dc025dc-4a84-4d02-be73-e8aa5b08fdeb\", \"Misclassified Issues.csv\", 129248)"
            ]
          },
          "metadata": {}
        }
      ]
    },
    {
      "cell_type": "code",
      "source": [
        "#first zip the parquet files\n",
        "!zip -r /content/nlp.zip /content/nlp\n",
        "!zip -r /content/trainedmodels.zip /content/trainedmodels"
      ],
      "metadata": {
        "id": "lc-TTBi6KIBM"
      },
      "execution_count": null,
      "outputs": []
    },
    {
      "cell_type": "code",
      "source": [
        "#then download\n",
        "files.download('/content/nlp.zip')\n",
        "files.download('/content/trainedmodels.zip')"
      ],
      "metadata": {
        "id": "QHY7kGBHKeRW",
        "colab": {
          "base_uri": "https://localhost:8080/",
          "height": 17
        },
        "outputId": "db455aa4-df9e-4cf8-96da-8b0c5e1f3865"
      },
      "execution_count": 63,
      "outputs": [
        {
          "output_type": "display_data",
          "data": {
            "text/plain": [
              "<IPython.core.display.Javascript object>"
            ],
            "application/javascript": [
              "\n",
              "    async function download(id, filename, size) {\n",
              "      if (!google.colab.kernel.accessAllowed) {\n",
              "        return;\n",
              "      }\n",
              "      const div = document.createElement('div');\n",
              "      const label = document.createElement('label');\n",
              "      label.textContent = `Downloading \"${filename}\": `;\n",
              "      div.appendChild(label);\n",
              "      const progress = document.createElement('progress');\n",
              "      progress.max = size;\n",
              "      div.appendChild(progress);\n",
              "      document.body.appendChild(div);\n",
              "\n",
              "      const buffers = [];\n",
              "      let downloaded = 0;\n",
              "\n",
              "      const channel = await google.colab.kernel.comms.open(id);\n",
              "      // Send a message to notify the kernel that we're ready.\n",
              "      channel.send({})\n",
              "\n",
              "      for await (const message of channel.messages) {\n",
              "        // Send a message to notify the kernel that we're ready.\n",
              "        channel.send({})\n",
              "        if (message.buffers) {\n",
              "          for (const buffer of message.buffers) {\n",
              "            buffers.push(buffer);\n",
              "            downloaded += buffer.byteLength;\n",
              "            progress.value = downloaded;\n",
              "          }\n",
              "        }\n",
              "      }\n",
              "      const blob = new Blob(buffers, {type: 'application/binary'});\n",
              "      const a = document.createElement('a');\n",
              "      a.href = window.URL.createObjectURL(blob);\n",
              "      a.download = filename;\n",
              "      div.appendChild(a);\n",
              "      a.click();\n",
              "      div.remove();\n",
              "    }\n",
              "  "
            ]
          },
          "metadata": {}
        },
        {
          "output_type": "display_data",
          "data": {
            "text/plain": [
              "<IPython.core.display.Javascript object>"
            ],
            "application/javascript": [
              "download(\"download_f45bd953-d3c2-4fa9-9614-74795a4aa60b\", \"nlp.zip\", 931905)"
            ]
          },
          "metadata": {}
        },
        {
          "output_type": "display_data",
          "data": {
            "text/plain": [
              "<IPython.core.display.Javascript object>"
            ],
            "application/javascript": [
              "\n",
              "    async function download(id, filename, size) {\n",
              "      if (!google.colab.kernel.accessAllowed) {\n",
              "        return;\n",
              "      }\n",
              "      const div = document.createElement('div');\n",
              "      const label = document.createElement('label');\n",
              "      label.textContent = `Downloading \"${filename}\": `;\n",
              "      div.appendChild(label);\n",
              "      const progress = document.createElement('progress');\n",
              "      progress.max = size;\n",
              "      div.appendChild(progress);\n",
              "      document.body.appendChild(div);\n",
              "\n",
              "      const buffers = [];\n",
              "      let downloaded = 0;\n",
              "\n",
              "      const channel = await google.colab.kernel.comms.open(id);\n",
              "      // Send a message to notify the kernel that we're ready.\n",
              "      channel.send({})\n",
              "\n",
              "      for await (const message of channel.messages) {\n",
              "        // Send a message to notify the kernel that we're ready.\n",
              "        channel.send({})\n",
              "        if (message.buffers) {\n",
              "          for (const buffer of message.buffers) {\n",
              "            buffers.push(buffer);\n",
              "            downloaded += buffer.byteLength;\n",
              "            progress.value = downloaded;\n",
              "          }\n",
              "        }\n",
              "      }\n",
              "      const blob = new Blob(buffers, {type: 'application/binary'});\n",
              "      const a = document.createElement('a');\n",
              "      a.href = window.URL.createObjectURL(blob);\n",
              "      a.download = filename;\n",
              "      div.appendChild(a);\n",
              "      a.click();\n",
              "      div.remove();\n",
              "    }\n",
              "  "
            ]
          },
          "metadata": {}
        },
        {
          "output_type": "display_data",
          "data": {
            "text/plain": [
              "<IPython.core.display.Javascript object>"
            ],
            "application/javascript": [
              "download(\"download_5e565737-83ea-4824-8c3b-1ef78548bd92\", \"trainedmodels.zip\", 309670)"
            ]
          },
          "metadata": {}
        }
      ]
    }
  ],
  "metadata": {
    "application/vnd.databricks.v1+notebook": {
      "dashboards": [],
      "language": "python",
      "notebookMetadata": {
        "pythonIndentUnit": 4
      },
      "notebookName": "Spark_MLAnalysis",
      "notebookOrigID": 4029936741422989,
      "widgets": {}
    },
    "colab": {
      "provenance": [],
      "collapsed_sections": [
        "ptr1p2Obaz68",
        "yT8YlhieoVX0"
      ]
    },
    "gpuClass": "standard",
    "kernelspec": {
      "display_name": "ENSF-612",
      "language": "python",
      "name": "python3"
    },
    "language_info": {
      "codemirror_mode": {
        "name": "ipython",
        "version": 3
      },
      "file_extension": ".py",
      "mimetype": "text/x-python",
      "name": "python",
      "nbconvert_exporter": "python",
      "pygments_lexer": "ipython3",
      "version": "3.9.13"
    },
    "orig_nbformat": 4,
    "vscode": {
      "interpreter": {
        "hash": "758f2f2736c7fa9cea9c3ba7e462cc50ad01011ab3fd1554d8a168a53b5df95b"
      }
    }
  },
  "nbformat": 4,
  "nbformat_minor": 0
}