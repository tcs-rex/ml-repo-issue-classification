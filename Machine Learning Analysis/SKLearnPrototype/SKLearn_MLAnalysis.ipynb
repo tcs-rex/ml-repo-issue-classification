{
  "cells": [
    {
      "cell_type": "markdown",
      "metadata": {
        "id": "NdNlZ82-1akX"
      },
      "source": [
        "Import the required packages and set up the Spark session."
      ]
    },
    {
      "cell_type": "code",
      "source": [
        "# install required packages\n",
        "!apt-get install openjdk-8-jdk-headless -qq > /dev/null\n",
        "%pip install -q pyspark\n",
        "%pip install -q findspark\n",
        "%pip install -q joblibspark\n",
        "%pip install -q spacy\n",
        "!python -m spacy download en_core_web_sm"
      ],
      "metadata": {
        "id": "E6BmPyKI1dni"
      },
      "execution_count": 6,
      "outputs": []
    },
    {
      "cell_type": "code",
      "execution_count": 9,
      "metadata": {
        "colab": {
          "base_uri": "https://localhost:8080/",
          "height": 35
        },
        "id": "RP16WrVo1akc",
        "outputId": "6658aa7d-09ab-4e3d-ef0f-19b8c68dc1b7"
      },
      "outputs": [
        {
          "output_type": "execute_result",
          "data": {
            "text/plain": [
              "'/usr/local/lib/python3.8/dist-packages/pyspark'"
            ],
            "application/vnd.google.colaboratory.intrinsic+json": {
              "type": "string"
            }
          },
          "metadata": {},
          "execution_count": 9
        }
      ],
      "source": [
        "import findspark\n",
        "findspark.init()\n",
        "findspark.find()"
      ]
    },
    {
      "cell_type": "code",
      "execution_count": 10,
      "metadata": {
        "id": "tSuivZXj1akh"
      },
      "outputs": [],
      "source": [
        "from pyspark.sql import SparkSession\n",
        "import pyspark;\n",
        "spark = SparkSession.builder.appName('612Project').getOrCreate();"
      ]
    },
    {
      "cell_type": "markdown",
      "metadata": {
        "id": "F9CKtc8U1aki"
      },
      "source": [
        "Note: We will be using Spark for GridSearchCV only. This appears to be the only sklearn method currently supported by Spark. The remaining code will be executed using Pandas dataframes."
      ]
    },
    {
      "cell_type": "markdown",
      "metadata": {
        "id": "CYN69IIX1akj"
      },
      "source": [
        "Load the CSV file (n=1000 samples) containing our manual labels as the target vector"
      ]
    },
    {
      "cell_type": "code",
      "source": [
        "# This notebook was originally run in Google colab due to better hardware performance than Databricks and local machines.\n",
        "# This code should not be run locally (it will not work)\n",
        "\n",
        "# from google.colab import files\n",
        "# uploaded = files.upload()"
      ],
      "metadata": {
        "colab": {
          "base_uri": "https://localhost:8080/",
          "height": 73
        },
        "id": "0HSUh7dN3kZ4",
        "outputId": "851e3f3f-c816-4083-e8e5-262caf208c8a"
      },
      "execution_count": 11,
      "outputs": [
        {
          "output_type": "display_data",
          "data": {
            "text/plain": [
              "<IPython.core.display.HTML object>"
            ],
            "text/html": [
              "\n",
              "     <input type=\"file\" id=\"files-4bb0b765-8e9e-4808-b87f-4cf9ad8c8d18\" name=\"files[]\" multiple disabled\n",
              "        style=\"border:none\" />\n",
              "     <output id=\"result-4bb0b765-8e9e-4808-b87f-4cf9ad8c8d18\">\n",
              "      Upload widget is only available when the cell has been executed in the\n",
              "      current browser session. Please rerun this cell to enable.\n",
              "      </output>\n",
              "      <script>// Copyright 2017 Google LLC\n",
              "//\n",
              "// Licensed under the Apache License, Version 2.0 (the \"License\");\n",
              "// you may not use this file except in compliance with the License.\n",
              "// You may obtain a copy of the License at\n",
              "//\n",
              "//      http://www.apache.org/licenses/LICENSE-2.0\n",
              "//\n",
              "// Unless required by applicable law or agreed to in writing, software\n",
              "// distributed under the License is distributed on an \"AS IS\" BASIS,\n",
              "// WITHOUT WARRANTIES OR CONDITIONS OF ANY KIND, either express or implied.\n",
              "// See the License for the specific language governing permissions and\n",
              "// limitations under the License.\n",
              "\n",
              "/**\n",
              " * @fileoverview Helpers for google.colab Python module.\n",
              " */\n",
              "(function(scope) {\n",
              "function span(text, styleAttributes = {}) {\n",
              "  const element = document.createElement('span');\n",
              "  element.textContent = text;\n",
              "  for (const key of Object.keys(styleAttributes)) {\n",
              "    element.style[key] = styleAttributes[key];\n",
              "  }\n",
              "  return element;\n",
              "}\n",
              "\n",
              "// Max number of bytes which will be uploaded at a time.\n",
              "const MAX_PAYLOAD_SIZE = 100 * 1024;\n",
              "\n",
              "function _uploadFiles(inputId, outputId) {\n",
              "  const steps = uploadFilesStep(inputId, outputId);\n",
              "  const outputElement = document.getElementById(outputId);\n",
              "  // Cache steps on the outputElement to make it available for the next call\n",
              "  // to uploadFilesContinue from Python.\n",
              "  outputElement.steps = steps;\n",
              "\n",
              "  return _uploadFilesContinue(outputId);\n",
              "}\n",
              "\n",
              "// This is roughly an async generator (not supported in the browser yet),\n",
              "// where there are multiple asynchronous steps and the Python side is going\n",
              "// to poll for completion of each step.\n",
              "// This uses a Promise to block the python side on completion of each step,\n",
              "// then passes the result of the previous step as the input to the next step.\n",
              "function _uploadFilesContinue(outputId) {\n",
              "  const outputElement = document.getElementById(outputId);\n",
              "  const steps = outputElement.steps;\n",
              "\n",
              "  const next = steps.next(outputElement.lastPromiseValue);\n",
              "  return Promise.resolve(next.value.promise).then((value) => {\n",
              "    // Cache the last promise value to make it available to the next\n",
              "    // step of the generator.\n",
              "    outputElement.lastPromiseValue = value;\n",
              "    return next.value.response;\n",
              "  });\n",
              "}\n",
              "\n",
              "/**\n",
              " * Generator function which is called between each async step of the upload\n",
              " * process.\n",
              " * @param {string} inputId Element ID of the input file picker element.\n",
              " * @param {string} outputId Element ID of the output display.\n",
              " * @return {!Iterable<!Object>} Iterable of next steps.\n",
              " */\n",
              "function* uploadFilesStep(inputId, outputId) {\n",
              "  const inputElement = document.getElementById(inputId);\n",
              "  inputElement.disabled = false;\n",
              "\n",
              "  const outputElement = document.getElementById(outputId);\n",
              "  outputElement.innerHTML = '';\n",
              "\n",
              "  const pickedPromise = new Promise((resolve) => {\n",
              "    inputElement.addEventListener('change', (e) => {\n",
              "      resolve(e.target.files);\n",
              "    });\n",
              "  });\n",
              "\n",
              "  const cancel = document.createElement('button');\n",
              "  inputElement.parentElement.appendChild(cancel);\n",
              "  cancel.textContent = 'Cancel upload';\n",
              "  const cancelPromise = new Promise((resolve) => {\n",
              "    cancel.onclick = () => {\n",
              "      resolve(null);\n",
              "    };\n",
              "  });\n",
              "\n",
              "  // Wait for the user to pick the files.\n",
              "  const files = yield {\n",
              "    promise: Promise.race([pickedPromise, cancelPromise]),\n",
              "    response: {\n",
              "      action: 'starting',\n",
              "    }\n",
              "  };\n",
              "\n",
              "  cancel.remove();\n",
              "\n",
              "  // Disable the input element since further picks are not allowed.\n",
              "  inputElement.disabled = true;\n",
              "\n",
              "  if (!files) {\n",
              "    return {\n",
              "      response: {\n",
              "        action: 'complete',\n",
              "      }\n",
              "    };\n",
              "  }\n",
              "\n",
              "  for (const file of files) {\n",
              "    const li = document.createElement('li');\n",
              "    li.append(span(file.name, {fontWeight: 'bold'}));\n",
              "    li.append(span(\n",
              "        `(${file.type || 'n/a'}) - ${file.size} bytes, ` +\n",
              "        `last modified: ${\n",
              "            file.lastModifiedDate ? file.lastModifiedDate.toLocaleDateString() :\n",
              "                                    'n/a'} - `));\n",
              "    const percent = span('0% done');\n",
              "    li.appendChild(percent);\n",
              "\n",
              "    outputElement.appendChild(li);\n",
              "\n",
              "    const fileDataPromise = new Promise((resolve) => {\n",
              "      const reader = new FileReader();\n",
              "      reader.onload = (e) => {\n",
              "        resolve(e.target.result);\n",
              "      };\n",
              "      reader.readAsArrayBuffer(file);\n",
              "    });\n",
              "    // Wait for the data to be ready.\n",
              "    let fileData = yield {\n",
              "      promise: fileDataPromise,\n",
              "      response: {\n",
              "        action: 'continue',\n",
              "      }\n",
              "    };\n",
              "\n",
              "    // Use a chunked sending to avoid message size limits. See b/62115660.\n",
              "    let position = 0;\n",
              "    do {\n",
              "      const length = Math.min(fileData.byteLength - position, MAX_PAYLOAD_SIZE);\n",
              "      const chunk = new Uint8Array(fileData, position, length);\n",
              "      position += length;\n",
              "\n",
              "      const base64 = btoa(String.fromCharCode.apply(null, chunk));\n",
              "      yield {\n",
              "        response: {\n",
              "          action: 'append',\n",
              "          file: file.name,\n",
              "          data: base64,\n",
              "        },\n",
              "      };\n",
              "\n",
              "      let percentDone = fileData.byteLength === 0 ?\n",
              "          100 :\n",
              "          Math.round((position / fileData.byteLength) * 100);\n",
              "      percent.textContent = `${percentDone}% done`;\n",
              "\n",
              "    } while (position < fileData.byteLength);\n",
              "  }\n",
              "\n",
              "  // All done.\n",
              "  yield {\n",
              "    response: {\n",
              "      action: 'complete',\n",
              "    }\n",
              "  };\n",
              "}\n",
              "\n",
              "scope.google = scope.google || {};\n",
              "scope.google.colab = scope.google.colab || {};\n",
              "scope.google.colab._files = {\n",
              "  _uploadFiles,\n",
              "  _uploadFilesContinue,\n",
              "};\n",
              "})(self);\n",
              "</script> "
            ]
          },
          "metadata": {}
        },
        {
          "output_type": "stream",
          "name": "stdout",
          "text": [
            "Saving GH-React.csv to GH-React.csv\n"
          ]
        }
      ]
    },
    {
      "cell_type": "code",
      "execution_count": 12,
      "metadata": {
        "id": "S7QhlI_41akj"
      },
      "outputs": [],
      "source": [
        "import pandas as pd\n",
        "\n",
        "df = pd.read_csv(\"./GH-React.csv\")\n",
        "\n",
        "#keep only the columns we need\n",
        "df = df[['title','author_association','body','Target']]"
      ]
    },
    {
      "cell_type": "code",
      "execution_count": 13,
      "metadata": {
        "colab": {
          "base_uri": "https://localhost:8080/"
        },
        "id": "PJCJMcvf1akk",
        "outputId": "5665441a-51de-4b93-cadf-8820023b988b"
      },
      "outputs": [
        {
          "output_type": "stream",
          "name": "stdout",
          "text": [
            "Shape: (1000, 4)\n"
          ]
        },
        {
          "output_type": "execute_result",
          "data": {
            "text/plain": [
              "Index(['title', 'author_association', 'body', 'Target'], dtype='object')"
            ]
          },
          "metadata": {},
          "execution_count": 13
        }
      ],
      "source": [
        "print(\"Shape:\", df.shape)\n",
        "df.columns"
      ]
    },
    {
      "cell_type": "markdown",
      "metadata": {
        "id": "Y65k16_81akl"
      },
      "source": [
        "## Machine Learning Pipeline\n",
        "### Stage 1\n",
        "The preprocess() function is defined below. It takes in a String formatted as Markdown from GitHub and pre-processes it to return a new string ready for the next stages in our ML Pipeline."
      ]
    },
    {
      "cell_type": "code",
      "execution_count": 14,
      "metadata": {
        "id": "Vgh1cZUk1akm"
      },
      "outputs": [],
      "source": [
        "import re\n",
        "\n",
        "def preprocess(text):\n",
        "    stripped = text.lower()\n",
        "\n",
        "    # remove all headings, bold text, and HTML comments from the Markdown text.\n",
        "    # These items have all been used by the React team in their issue templates on GitHub\n",
        "    headings_pattern = r'(<=\\s|^)#{1,6}(.*?)$'\n",
        "    bold_pattern = r'\\*\\*(.+?)\\*\\*(?!\\*)'\n",
        "    comments_pattern = r'<!--((.|\\n)*?)-->'\n",
        "    combined_pattern = r'|'.join((headings_pattern, bold_pattern, comments_pattern))\n",
        "\n",
        "    stripped = re.sub(combined_pattern, '', stripped)\n",
        "\n",
        "    # find all URLs in the string, and then remove the final directory from each to leave the general URL form\n",
        "    # there may be useful patterns based on what URLs issues are commonly linking to\n",
        "    url_pattern = re.compile(r'(https?://[^\\s]+)')\n",
        "    for url in re.findall(url_pattern, stripped):\n",
        "        new_url = url.rsplit(\"/\", 1)[0]\n",
        "        stripped = stripped.replace(url, new_url)\n",
        "\n",
        "    non_alpha_pattern = r'[^A-Za-z ]+'\n",
        "    stripped = re.sub(non_alpha_pattern, '', stripped)    \n",
        "    \n",
        "    return ' '.join(stripped.split())"
      ]
    },
    {
      "cell_type": "code",
      "execution_count": 15,
      "metadata": {
        "id": "DKth1wN61ako"
      },
      "outputs": [],
      "source": [
        "#convert body and title column to unicode, there were some issues with processing\n",
        "df['body'] = df['body'].astype('U')\n",
        "df['title'] = df['title'].astype('U')"
      ]
    },
    {
      "cell_type": "markdown",
      "source": [
        "Test the preprocess function on a sample post to ensure that it works as expected:"
      ],
      "metadata": {
        "id": "uClT0AKJjGnk"
      }
    },
    {
      "cell_type": "code",
      "execution_count": 16,
      "metadata": {
        "colab": {
          "base_uri": "https://localhost:8080/",
          "height": 174
        },
        "id": "IvKLByCy1akp",
        "outputId": "dfdd6933-c91e-426b-88ff-3ba81822cf3f"
      },
      "outputs": [
        {
          "output_type": "execute_result",
          "data": {
            "text/plain": [
              "'bug or undefined behaviourdoingreactchildrentoarray reactdomcreateportalfails withobjects are not valid as a react child found object with keys typeof key children containerinfo implementation if you meant to render a collection of children use an array insteadnamely the following complete snippet failsjsximport react from reactimport render createportal from reactdomconst renderchildren children children reactchildrentoarraychildren return hrenders children with toarray childrenhconst app renderchildren namecodesandbox createportaldivrendered in portaldiv documentgetelementbyidportal renderchildrenrenderapp documentgetelementbyidrootwhile the following one which wraps the portal in another element works just finejsximport react from reactimport render createportal from reactdomconst renderchildren children children reactchildrentoarraychildren return hrenders children with toarray childrenhconst app renderchildren namecodesandbox div createportaldivrendered in portaldiv documentgetelementbyidportal div renderchildrenrenderapp documentgetelementbyidrooti am aware that createportal is a new feature but in the best case scenario it should be possible to use it everywhere other valid nodes are acceptedthe same thing is happening for reactcloneelementreactdomcreateportal its probably weird to try and clone a portal but maybe we should specify in the createportal documentation that it cannot be cloned at least for now should i open a pr for thatlet me know your thoughtsim using react'"
            ],
            "application/vnd.google.colaboratory.intrinsic+json": {
              "type": "string"
            }
          },
          "metadata": {},
          "execution_count": 16
        }
      ],
      "source": [
        "test = df['body'][4]\n",
        "preprocess(test)"
      ]
    },
    {
      "cell_type": "markdown",
      "metadata": {
        "id": "avs7tFGa1akp"
      },
      "source": [
        "### Stage 2\n",
        "Split the data into training (80%) and validation(20%) sets. We will stratify based on the label since our dataset is imbalanced."
      ]
    },
    {
      "cell_type": "code",
      "execution_count": 44,
      "metadata": {
        "id": "NGt0cpBf1akp"
      },
      "outputs": [],
      "source": [
        "y = df['Target']\n",
        "X = df.drop(['Target'], axis=1)"
      ]
    },
    {
      "cell_type": "code",
      "execution_count": 45,
      "metadata": {
        "colab": {
          "base_uri": "https://localhost:8080/"
        },
        "id": "E_EiPZd-1akp",
        "outputId": "04a57905-26bb-48d7-c70f-72689a651878"
      },
      "outputs": [
        {
          "output_type": "stream",
          "name": "stdout",
          "text": [
            "(800, 3)\n",
            "(200, 3)\n"
          ]
        }
      ],
      "source": [
        "from sklearn.model_selection import train_test_split\n",
        "\n",
        "X_train, X_val, y_train, y_val = train_test_split(X, y, train_size=0.8, stratify=y, random_state=1)\n",
        "\n",
        "print(X_train.shape)\n",
        "print(X_val.shape)"
      ]
    },
    {
      "cell_type": "markdown",
      "metadata": {
        "id": "C_fYmBil1akq"
      },
      "source": [
        "### Stage 3\n",
        "Create a TF-IDF features matrix using TfidfVectorizer from sklearn applied to the title and body of each issue.\n",
        "\n",
        "We will additionally add in the feature 'author_association' from the GitHub issue, as there may be a correlation between Members/Collaborators/Contributors submitting more valid bugs/feature requests than \"None\" users.\n",
        "\n",
        "While lemmatization could have been done earlier in the pre-processsing stage, it is more efficient to lemmatize at this point in a custom_tokenizer() function passed to TfidfVectorizer since tokenization is part of both processses.\n",
        "\n",
        "First, define the tokenizer and vectorizer:"
      ]
    },
    {
      "cell_type": "code",
      "execution_count": 20,
      "metadata": {
        "id": "evJpzt0O1akr"
      },
      "outputs": [],
      "source": [
        "import spacy\n",
        "from sklearn.feature_extraction.text import TfidfVectorizer\n",
        "\n",
        "nlp = spacy.load(\"en_core_web_sm\")\n",
        "\n",
        "# create a custom tokenizer using the spacy document processing pipeline\n",
        "def custom_tokenizer(document):\n",
        "    ppd = preprocess(document)\n",
        "    doc = nlp(ppd)\n",
        "    return [token.lemma_ for token in doc]\n",
        "\n",
        "tfidfvect = TfidfVectorizer(tokenizer=custom_tokenizer, ngram_range=(1, 2), min_df=5)"
      ]
    },
    {
      "cell_type": "markdown",
      "metadata": {
        "id": "clHOgtuV1akr"
      },
      "source": [
        "We will also use one-hot-encoding on the author-association feature"
      ]
    },
    {
      "cell_type": "code",
      "execution_count": 21,
      "metadata": {
        "id": "xxPVQ5rJ1akr"
      },
      "outputs": [],
      "source": [
        "from sklearn.preprocessing import OneHotEncoder\n",
        "\n",
        "# use one hot encoder to transform the author_association to a feature set\n",
        "ohe = OneHotEncoder()"
      ]
    },
    {
      "cell_type": "markdown",
      "metadata": {
        "id": "6vi3CUgv1aks"
      },
      "source": [
        "Create the features matrix using a ColumnTransformer to create a pipeline with the different feature generation methods. We will use a separate vectorizer on the body and title to produce a different set of features for each. The tokens in the title may hold different importance than the same token in the body."
      ]
    },
    {
      "cell_type": "code",
      "execution_count": 22,
      "metadata": {
        "colab": {
          "base_uri": "https://localhost:8080/"
        },
        "id": "N7S1k9MW1aks",
        "outputId": "691d4c67-614c-4ece-df0a-d31ce7b228c8"
      },
      "outputs": [
        {
          "output_type": "execute_result",
          "data": {
            "text/plain": [
              "(800, 3544)"
            ]
          },
          "metadata": {},
          "execution_count": 22
        }
      ],
      "source": [
        "from sklearn.compose import make_column_transformer\n",
        "from sklearn.compose import ColumnTransformer\n",
        "\n",
        "ct = ColumnTransformer(\n",
        "    [(\"title\", tfidfvect, \"title\"),\n",
        "     (\"body\", tfidfvect, \"body\"),\n",
        "     (\"ohe\", ohe, ['author_association'])]\n",
        ")\n",
        "\n",
        "ct.fit(X_train)\n",
        "X_train_trans = ct.transform(X_train)\n",
        "X_train_trans.shape"
      ]
    },
    {
      "cell_type": "markdown",
      "metadata": {
        "id": "m9sD6Qoc1aks"
      },
      "source": [
        "Perform an initial analysis on our model to see how our train and validation scores look (spoiler: not great)"
      ]
    },
    {
      "cell_type": "code",
      "execution_count": 23,
      "metadata": {
        "colab": {
          "base_uri": "https://localhost:8080/"
        },
        "id": "RdcxiSYH1aks",
        "outputId": "ab468b7c-34b6-4052-8e50-6c1ec5183005"
      },
      "outputs": [
        {
          "output_type": "stream",
          "name": "stdout",
          "text": [
            "Train score: 0.89\n",
            "Validation score: 0.57\n"
          ]
        }
      ],
      "source": [
        "from sklearn.linear_model import LogisticRegression\n",
        "logreg = LogisticRegression(max_iter=1000)\n",
        "logreg.fit(X_train_trans, y_train)\n",
        "\n",
        "X_val_trans = ct.transform(X_val)\n",
        "print(\"Train score: {:.2f}\".format(logreg.score(X_train_trans, y_train)))\n",
        "print(\"Validation score: {:.2f}\".format(logreg.score(X_val_trans, y_val)))"
      ]
    },
    {
      "cell_type": "markdown",
      "metadata": {
        "id": "A2JXD9Ho1akt"
      },
      "source": [
        "Look at the features with the lowest and highest idf from the 'body' column just to see if things look reasonable. The features with the lowest idf are what we would think of as 'stop words', so this seems intuitive."
      ]
    },
    {
      "cell_type": "code",
      "execution_count": 24,
      "metadata": {
        "colab": {
          "base_uri": "https://localhost:8080/"
        },
        "id": "01QixNOT1akt",
        "outputId": "7298c1a5-8eae-49f8-ccad-7c521f8d437b"
      },
      "outputs": [
        {
          "output_type": "stream",
          "name": "stdout",
          "text": [
            "Features with lowest idf:\n",
            "['the' 'be' 'to' 'a' 'not' 'in' 'and' 'this' 'I' 'react' 'it' 'of' 'do'\n",
            " 'use' 'version' 'that' 'for' 'with' 'component' 'have']\n",
            "Features with highest idf:\n",
            "['standalone' 'eject' 'start build' 'either the' 'start with' 'state I'\n",
            " 'devdependencie' 'state dispatch' 'during the' 'down the' 'still be'\n",
            " 'still have' 'do in' 'dispatch type' 'discussion' 'disabled' 'diff'\n",
            " 'subcomponent' 'state for' 'your time']\n"
          ]
        }
      ],
      "source": [
        "import numpy as np\n",
        "sorted_by_idf = np.argsort(ct.named_transformers_.body.idf_)\n",
        "feature_names = np.array(ct.named_transformers_.body.get_feature_names_out())\n",
        "\n",
        "print(\"Features with lowest idf:\\n{}\".format(feature_names[sorted_by_idf[:20]]))\n",
        "print(\"Features with highest idf:\\n{}\".format(feature_names[sorted_by_idf[-20:]]))"
      ]
    },
    {
      "cell_type": "markdown",
      "metadata": {
        "id": "LPZxVEM11akt"
      },
      "source": [
        "### TODO: See if we can visualize our text features to make sure it seems logical. Take an example from Chapter 7 in ML book."
      ]
    },
    {
      "cell_type": "markdown",
      "metadata": {
        "id": "gn6ZXJSI1akt"
      },
      "source": [
        "### Stage 4\n",
        "#### Grid Search for optimizing model\n",
        "\n",
        "Use grid search to find potentially better model parameters:"
      ]
    },
    {
      "cell_type": "code",
      "execution_count": 27,
      "metadata": {
        "id": "gjdDo7EV1aku"
      },
      "outputs": [],
      "source": [
        "from sklearn.feature_extraction.text import TfidfVectorizer\n",
        "from sklearn.linear_model import LogisticRegression\n",
        "from sklearn.pipeline import make_pipeline\n",
        "import numpy as np\n",
        "from sklearn.model_selection import GridSearchCV\n",
        "\n",
        "####### import joblibspark for gridsearch\n",
        "from joblibspark import register_spark\n",
        "from sklearn.utils import parallel_backend\n",
        "register_spark() # register spark backend\n",
        "\n",
        "pipe = make_pipeline(ct, LogisticRegression(max_iter=1000))\n",
        "\n",
        "param_grid = {\"logisticregression__C\": [0.1, 0.5, 1, 2, 5],\n",
        "                \"columntransformer__body__ngram_range\": [(1, 1), (1, 2), (1, 3)],\n",
        "                \"columntransformer__body__min_df\": [1,5]\n",
        "              }\n"
      ]
    },
    {
      "cell_type": "code",
      "source": [
        "# WARNING: Running this cell will run GridSearch. Skip to loading the pickle file if you want to save time.\n",
        "\n",
        "with parallel_backend('spark',n_jobs=-1):\n",
        "  grid = GridSearchCV(pipe, param_grid, cv=5)\n",
        "  grid.fit(X_train, y_train)"
      ],
      "metadata": {
        "id": "Kt3q3vAbmT9g"
      },
      "execution_count": null,
      "outputs": []
    },
    {
      "cell_type": "code",
      "source": [
        "# write the grid object to a file so that it can be loaded in a different session for analysis\n",
        "import dill as pickle\n",
        "pickle.dump(grid, open(\"grid.pkl\", \"wb\"))\n"
      ],
      "metadata": {
        "id": "ouamge-MhlEk"
      },
      "execution_count": 60,
      "outputs": []
    },
    {
      "cell_type": "code",
      "source": [
        "# this was originally run on Google colab as their hardware is better than mine\n",
        "# download the results from colab to my local drive\n",
        "from google.colab import files\n",
        "files.download('grid.pkl')"
      ],
      "metadata": {
        "colab": {
          "base_uri": "https://localhost:8080/",
          "height": 17
        },
        "id": "yk38yl0F4ubN",
        "outputId": "5b0e993e-01fb-43f8-bf2d-03a08a4f306d"
      },
      "execution_count": 64,
      "outputs": [
        {
          "output_type": "display_data",
          "data": {
            "text/plain": [
              "<IPython.core.display.Javascript object>"
            ],
            "application/javascript": [
              "\n",
              "    async function download(id, filename, size) {\n",
              "      if (!google.colab.kernel.accessAllowed) {\n",
              "        return;\n",
              "      }\n",
              "      const div = document.createElement('div');\n",
              "      const label = document.createElement('label');\n",
              "      label.textContent = `Downloading \"${filename}\": `;\n",
              "      div.appendChild(label);\n",
              "      const progress = document.createElement('progress');\n",
              "      progress.max = size;\n",
              "      div.appendChild(progress);\n",
              "      document.body.appendChild(div);\n",
              "\n",
              "      const buffers = [];\n",
              "      let downloaded = 0;\n",
              "\n",
              "      const channel = await google.colab.kernel.comms.open(id);\n",
              "      // Send a message to notify the kernel that we're ready.\n",
              "      channel.send({})\n",
              "\n",
              "      for await (const message of channel.messages) {\n",
              "        // Send a message to notify the kernel that we're ready.\n",
              "        channel.send({})\n",
              "        if (message.buffers) {\n",
              "          for (const buffer of message.buffers) {\n",
              "            buffers.push(buffer);\n",
              "            downloaded += buffer.byteLength;\n",
              "            progress.value = downloaded;\n",
              "          }\n",
              "        }\n",
              "      }\n",
              "      const blob = new Blob(buffers, {type: 'application/binary'});\n",
              "      const a = document.createElement('a');\n",
              "      a.href = window.URL.createObjectURL(blob);\n",
              "      a.download = filename;\n",
              "      div.appendChild(a);\n",
              "      a.click();\n",
              "      div.remove();\n",
              "    }\n",
              "  "
            ]
          },
          "metadata": {}
        },
        {
          "output_type": "display_data",
          "data": {
            "text/plain": [
              "<IPython.core.display.Javascript object>"
            ],
            "application/javascript": [
              "download(\"download_5178ba41-96cb-4f16-b898-067a2852db28\", \"grid.pkl\", 45772654)"
            ]
          },
          "metadata": {}
        }
      ]
    },
    {
      "cell_type": "code",
      "execution_count": 61,
      "metadata": {
        "id": "mbiXBK8h1aku"
      },
      "outputs": [],
      "source": [
        "# load the grid variable back from file to continue using it's\n",
        "# contents for analysis in future sessions\n",
        "grid = pickle.load(open(\"grid.pkl\", \"rb\"))"
      ]
    },
    {
      "cell_type": "code",
      "execution_count": 62,
      "metadata": {
        "colab": {
          "base_uri": "https://localhost:8080/"
        },
        "id": "NocnV55j1akv",
        "outputId": "5a337507-ddd9-4dab-a5eb-c14497920304"
      },
      "outputs": [
        {
          "output_type": "stream",
          "name": "stdout",
          "text": [
            "Best parameters: {'columntransformer__body__min_df': 1, 'columntransformer__body__ngram_range': (1, 3), 'logisticregression__C': 0.5}\n",
            "Best cross-validation score: 0.56\n"
          ]
        }
      ],
      "source": [
        "print(\"Best parameters: {}\".format(grid.best_params_))\n",
        "print(\"Best cross-validation score: {:.2f}\".format(grid.best_score_))"
      ]
    },
    {
      "cell_type": "markdown",
      "metadata": {
        "id": "3dw3uQfz1akv"
      },
      "source": [
        "### Stage 5\n",
        "Use the best parameters generated by grid transform to re-train and validate our model with the X_val and y_val data we saved in stage 3:"
      ]
    },
    {
      "cell_type": "code",
      "execution_count": 65,
      "metadata": {
        "colab": {
          "base_uri": "https://localhost:8080/"
        },
        "id": "TFBYQOWy1akv",
        "outputId": "6d3729fd-cea1-4ce0-db1f-934af99aa34e"
      },
      "outputs": [
        {
          "output_type": "stream",
          "name": "stdout",
          "text": [
            "Train score: 0.87\n",
            "Validation score: 0.55\n"
          ]
        }
      ],
      "source": [
        "tfidfvect = TfidfVectorizer(tokenizer=custom_tokenizer, ngram_range=(1, 3), min_df=1)\n",
        "\n",
        "ct = ColumnTransformer(\n",
        "    [(\"title\", tfidfvect, \"title\"),\n",
        "     (\"body\", tfidfvect, \"body\"),\n",
        "     (\"ohe\", ohe, ['author_association'])]\n",
        ")\n",
        "\n",
        "X_train_trans = ct.fit_transform(X_train)\n",
        "\n",
        "logreg = LogisticRegression(C=0.5, max_iter=1000)\n",
        "logreg.fit(X_train_trans, y_train)\n",
        "\n",
        "X_val_trans = ct.transform(X_val)\n",
        "print(\"Train score: {:.2f}\".format(logreg.score(X_train_trans, y_train)))\n",
        "print(\"Validation score: {:.2f}\".format(logreg.score(X_val_trans, y_val)))"
      ]
    },
    {
      "cell_type": "markdown",
      "source": [
        "Our model doesn't perform great, but at least it beats random chance by about 20%!"
      ],
      "metadata": {
        "id": "jUOTh4cogdg5"
      }
    },
    {
      "cell_type": "code",
      "source": [
        "from sklearn.dummy import DummyClassifier\n",
        "dummy_clf = DummyClassifier(strategy=\"stratified\", random_state=0)\n",
        "dummy_clf.fit(X, y)\n",
        "\n",
        "print(\"Score based on chance: {:.2f}\".format(dummy_clf.score(X, y)))"
      ],
      "metadata": {
        "colab": {
          "base_uri": "https://localhost:8080/"
        },
        "id": "KYihfb0LfRoO",
        "outputId": "af7f1f4b-7144-4354-fcf3-eafbead84a08"
      },
      "execution_count": 57,
      "outputs": [
        {
          "output_type": "stream",
          "name": "stdout",
          "text": [
            "Score based on chance: 0.35\n"
          ]
        }
      ]
    },
    {
      "cell_type": "markdown",
      "metadata": {
        "id": "b_bJMuax1akv"
      },
      "source": [
        "# Analysis"
      ]
    },
    {
      "cell_type": "markdown",
      "metadata": {
        "id": "NmzSt6Uk1akv"
      },
      "source": [
        "# Suggested TODOS\n",
        "1. Grid Search Heatmap. If our parameters are at the edge, adjust them and re-run grid seach. Otherwise, move on.\n",
        "1. Confusion Matrix between classifications. Where was the model making the most mistakes?\n",
        "1. Feature Importances. Anything stand out as interesting?\n",
        "1. Other visualizations?\n",
        "1. Analysis on model outcomes, excuses for why our results were terrible.\n",
        "1. Could try different model types. A different grid search would have to be performed for each, I don't think you can easily grid search with different types of models all in one.\n",
        "1. Anything else you guys can think of\n"
      ]
    }
  ],
  "metadata": {
    "kernelspec": {
      "display_name": "ENSF-612",
      "language": "python",
      "name": "python3"
    },
    "language_info": {
      "codemirror_mode": {
        "name": "ipython",
        "version": 3
      },
      "file_extension": ".py",
      "mimetype": "text/x-python",
      "name": "python",
      "nbconvert_exporter": "python",
      "pygments_lexer": "ipython3",
      "version": "3.9.13"
    },
    "orig_nbformat": 4,
    "vscode": {
      "interpreter": {
        "hash": "758f2f2736c7fa9cea9c3ba7e462cc50ad01011ab3fd1554d8a168a53b5df95b"
      }
    },
    "colab": {
      "provenance": []
    },
    "accelerator": "GPU",
    "gpuClass": "standard"
  },
  "nbformat": 4,
  "nbformat_minor": 0
}